{
 "cells": [
  {
   "cell_type": "markdown",
   "id": "61f2ac93",
   "metadata": {},
   "source": [
    "# Data Notes\n",
    "\n",
    "[Kaggle data link](https://www.kaggle.com/datasets/jessemostipak/hotel-booking-demand?phase=FinishSSORegistration&returnUrl=%2Fdatasets%2Fjessemostipak%2Fhotel-booking-demand%2Fversions%2F1%3Fresource%3Ddownload&SSORegistrationToken=CfDJ8GXdT74sZy9Iv4qC0qaf2Rf61U5cghMVcrIzVYejlgulhNkpQt-H_4S2JkygYL_VUoIwNsbzqwsZf-1V14Z_PmnTsyrWTf1Mu8_QfqF707zxNzsrt-aREOAfkQENnbL4SWFvYixqsWMdN6XIfbjE4tOOm1-wQATX-ycfWmAJ49IIHxzZfY8TQ1DYZPlg6xBMZ6HiGG3olWZD_XadA0TwZSa4yQ6yY4jJXBBb5DneFZUPNY6YGeFET1vAyPHZjuIvdUpjsqXE4CZdHHh0hA8rmex3XjkAvKaGW2gqse60qALh2jY7ry9HbfcuFSXEaw50t9wIgy1PFZunrKp5KL4gjmj-E-MT7FE&DisplayName=Francis+Alvarez)\n",
    "\n",
    "* **adr**\n",
    "    * Average Daily Rate as defined by dividing the sum of all lodging transactions by the total number of staying nights\n",
    "* **reservation_status**\n",
    "    * Reservation last status, assuming one of three categories: Canceled – booking was canceled by the customer; Check-Out – customer has checked in but already departed; No-Show – customer did not check-in and did inform the hotel of the reason why\n",
    "\n",
    "* **reservation_status_date**\n",
    "    * Date at which the last status was set. This variable can be used in conjunction with the ReservationStatus to understand when was the booking canceled or when did the customer checked-out of the hotel"
   ]
  },
  {
   "cell_type": "markdown",
   "id": "d3f8b371",
   "metadata": {},
   "source": [
    "# Modeling Notes\n",
    "\n",
    "## Modeling Procedure\n",
    "1. Data EDA\n",
    "2. Determine Initial Interest Variables\n",
    "3. Process Data\n",
    "4. Check VIF\n",
    "\n",
    "TODO: ADR\n",
    "* There is negative"
   ]
  },
  {
   "cell_type": "code",
   "execution_count": 1,
   "id": "b2be09ae",
   "metadata": {},
   "outputs": [
    {
     "data": {
      "text/html": [
       "<div class=\"bk-root\">\n",
       "        <a href=\"https://bokeh.org\" target=\"_blank\" class=\"bk-logo bk-logo-small bk-logo-notebook\"></a>\n",
       "        <span id=\"1002\">Loading BokehJS ...</span>\n",
       "    </div>\n"
      ]
     },
     "metadata": {},
     "output_type": "display_data"
    },
    {
     "data": {
      "application/javascript": [
       "(function(root) {\n",
       "  function now() {\n",
       "    return new Date();\n",
       "  }\n",
       "\n",
       "  const force = true;\n",
       "\n",
       "  if (typeof root._bokeh_onload_callbacks === \"undefined\" || force === true) {\n",
       "    root._bokeh_onload_callbacks = [];\n",
       "    root._bokeh_is_loading = undefined;\n",
       "  }\n",
       "\n",
       "const JS_MIME_TYPE = 'application/javascript';\n",
       "  const HTML_MIME_TYPE = 'text/html';\n",
       "  const EXEC_MIME_TYPE = 'application/vnd.bokehjs_exec.v0+json';\n",
       "  const CLASS_NAME = 'output_bokeh rendered_html';\n",
       "\n",
       "  /**\n",
       "   * Render data to the DOM node\n",
       "   */\n",
       "  function render(props, node) {\n",
       "    const script = document.createElement(\"script\");\n",
       "    node.appendChild(script);\n",
       "  }\n",
       "\n",
       "  /**\n",
       "   * Handle when an output is cleared or removed\n",
       "   */\n",
       "  function handleClearOutput(event, handle) {\n",
       "    const cell = handle.cell;\n",
       "\n",
       "    const id = cell.output_area._bokeh_element_id;\n",
       "    const server_id = cell.output_area._bokeh_server_id;\n",
       "    // Clean up Bokeh references\n",
       "    if (id != null && id in Bokeh.index) {\n",
       "      Bokeh.index[id].model.document.clear();\n",
       "      delete Bokeh.index[id];\n",
       "    }\n",
       "\n",
       "    if (server_id !== undefined) {\n",
       "      // Clean up Bokeh references\n",
       "      const cmd_clean = \"from bokeh.io.state import curstate; print(curstate().uuid_to_server['\" + server_id + \"'].get_sessions()[0].document.roots[0]._id)\";\n",
       "      cell.notebook.kernel.execute(cmd_clean, {\n",
       "        iopub: {\n",
       "          output: function(msg) {\n",
       "            const id = msg.content.text.trim();\n",
       "            if (id in Bokeh.index) {\n",
       "              Bokeh.index[id].model.document.clear();\n",
       "              delete Bokeh.index[id];\n",
       "            }\n",
       "          }\n",
       "        }\n",
       "      });\n",
       "      // Destroy server and session\n",
       "      const cmd_destroy = \"import bokeh.io.notebook as ion; ion.destroy_server('\" + server_id + \"')\";\n",
       "      cell.notebook.kernel.execute(cmd_destroy);\n",
       "    }\n",
       "  }\n",
       "\n",
       "  /**\n",
       "   * Handle when a new output is added\n",
       "   */\n",
       "  function handleAddOutput(event, handle) {\n",
       "    const output_area = handle.output_area;\n",
       "    const output = handle.output;\n",
       "\n",
       "    // limit handleAddOutput to display_data with EXEC_MIME_TYPE content only\n",
       "    if ((output.output_type != \"display_data\") || (!Object.prototype.hasOwnProperty.call(output.data, EXEC_MIME_TYPE))) {\n",
       "      return\n",
       "    }\n",
       "\n",
       "    const toinsert = output_area.element.find(\".\" + CLASS_NAME.split(' ')[0]);\n",
       "\n",
       "    if (output.metadata[EXEC_MIME_TYPE][\"id\"] !== undefined) {\n",
       "      toinsert[toinsert.length - 1].firstChild.textContent = output.data[JS_MIME_TYPE];\n",
       "      // store reference to embed id on output_area\n",
       "      output_area._bokeh_element_id = output.metadata[EXEC_MIME_TYPE][\"id\"];\n",
       "    }\n",
       "    if (output.metadata[EXEC_MIME_TYPE][\"server_id\"] !== undefined) {\n",
       "      const bk_div = document.createElement(\"div\");\n",
       "      bk_div.innerHTML = output.data[HTML_MIME_TYPE];\n",
       "      const script_attrs = bk_div.children[0].attributes;\n",
       "      for (let i = 0; i < script_attrs.length; i++) {\n",
       "        toinsert[toinsert.length - 1].firstChild.setAttribute(script_attrs[i].name, script_attrs[i].value);\n",
       "        toinsert[toinsert.length - 1].firstChild.textContent = bk_div.children[0].textContent\n",
       "      }\n",
       "      // store reference to server id on output_area\n",
       "      output_area._bokeh_server_id = output.metadata[EXEC_MIME_TYPE][\"server_id\"];\n",
       "    }\n",
       "  }\n",
       "\n",
       "  function register_renderer(events, OutputArea) {\n",
       "\n",
       "    function append_mime(data, metadata, element) {\n",
       "      // create a DOM node to render to\n",
       "      const toinsert = this.create_output_subarea(\n",
       "        metadata,\n",
       "        CLASS_NAME,\n",
       "        EXEC_MIME_TYPE\n",
       "      );\n",
       "      this.keyboard_manager.register_events(toinsert);\n",
       "      // Render to node\n",
       "      const props = {data: data, metadata: metadata[EXEC_MIME_TYPE]};\n",
       "      render(props, toinsert[toinsert.length - 1]);\n",
       "      element.append(toinsert);\n",
       "      return toinsert\n",
       "    }\n",
       "\n",
       "    /* Handle when an output is cleared or removed */\n",
       "    events.on('clear_output.CodeCell', handleClearOutput);\n",
       "    events.on('delete.Cell', handleClearOutput);\n",
       "\n",
       "    /* Handle when a new output is added */\n",
       "    events.on('output_added.OutputArea', handleAddOutput);\n",
       "\n",
       "    /**\n",
       "     * Register the mime type and append_mime function with output_area\n",
       "     */\n",
       "    OutputArea.prototype.register_mime_type(EXEC_MIME_TYPE, append_mime, {\n",
       "      /* Is output safe? */\n",
       "      safe: true,\n",
       "      /* Index of renderer in `output_area.display_order` */\n",
       "      index: 0\n",
       "    });\n",
       "  }\n",
       "\n",
       "  // register the mime type if in Jupyter Notebook environment and previously unregistered\n",
       "  if (root.Jupyter !== undefined) {\n",
       "    const events = require('base/js/events');\n",
       "    const OutputArea = require('notebook/js/outputarea').OutputArea;\n",
       "\n",
       "    if (OutputArea.prototype.mime_types().indexOf(EXEC_MIME_TYPE) == -1) {\n",
       "      register_renderer(events, OutputArea);\n",
       "    }\n",
       "  }\n",
       "  if (typeof (root._bokeh_timeout) === \"undefined\" || force === true) {\n",
       "    root._bokeh_timeout = Date.now() + 5000;\n",
       "    root._bokeh_failed_load = false;\n",
       "  }\n",
       "\n",
       "  const NB_LOAD_WARNING = {'data': {'text/html':\n",
       "     \"<div style='background-color: #fdd'>\\n\"+\n",
       "     \"<p>\\n\"+\n",
       "     \"BokehJS does not appear to have successfully loaded. If loading BokehJS from CDN, this \\n\"+\n",
       "     \"may be due to a slow or bad network connection. Possible fixes:\\n\"+\n",
       "     \"</p>\\n\"+\n",
       "     \"<ul>\\n\"+\n",
       "     \"<li>re-rerun `output_notebook()` to attempt to load from CDN again, or</li>\\n\"+\n",
       "     \"<li>use INLINE resources instead, as so:</li>\\n\"+\n",
       "     \"</ul>\\n\"+\n",
       "     \"<code>\\n\"+\n",
       "     \"from bokeh.resources import INLINE\\n\"+\n",
       "     \"output_notebook(resources=INLINE)\\n\"+\n",
       "     \"</code>\\n\"+\n",
       "     \"</div>\"}};\n",
       "\n",
       "  function display_loaded() {\n",
       "    const el = document.getElementById(\"1002\");\n",
       "    if (el != null) {\n",
       "      el.textContent = \"BokehJS is loading...\";\n",
       "    }\n",
       "    if (root.Bokeh !== undefined) {\n",
       "      if (el != null) {\n",
       "        el.textContent = \"BokehJS \" + root.Bokeh.version + \" successfully loaded.\";\n",
       "      }\n",
       "    } else if (Date.now() < root._bokeh_timeout) {\n",
       "      setTimeout(display_loaded, 100)\n",
       "    }\n",
       "  }\n",
       "\n",
       "  function run_callbacks() {\n",
       "    try {\n",
       "      root._bokeh_onload_callbacks.forEach(function(callback) {\n",
       "        if (callback != null)\n",
       "          callback();\n",
       "      });\n",
       "    } finally {\n",
       "      delete root._bokeh_onload_callbacks\n",
       "    }\n",
       "    console.debug(\"Bokeh: all callbacks have finished\");\n",
       "  }\n",
       "\n",
       "  function load_libs(css_urls, js_urls, callback) {\n",
       "    if (css_urls == null) css_urls = [];\n",
       "    if (js_urls == null) js_urls = [];\n",
       "\n",
       "    root._bokeh_onload_callbacks.push(callback);\n",
       "    if (root._bokeh_is_loading > 0) {\n",
       "      console.debug(\"Bokeh: BokehJS is being loaded, scheduling callback at\", now());\n",
       "      return null;\n",
       "    }\n",
       "    if (js_urls == null || js_urls.length === 0) {\n",
       "      run_callbacks();\n",
       "      return null;\n",
       "    }\n",
       "    console.debug(\"Bokeh: BokehJS not loaded, scheduling load and callback at\", now());\n",
       "    root._bokeh_is_loading = css_urls.length + js_urls.length;\n",
       "\n",
       "    function on_load() {\n",
       "      root._bokeh_is_loading--;\n",
       "      if (root._bokeh_is_loading === 0) {\n",
       "        console.debug(\"Bokeh: all BokehJS libraries/stylesheets loaded\");\n",
       "        run_callbacks()\n",
       "      }\n",
       "    }\n",
       "\n",
       "    function on_error(url) {\n",
       "      console.error(\"failed to load \" + url);\n",
       "    }\n",
       "\n",
       "    for (let i = 0; i < css_urls.length; i++) {\n",
       "      const url = css_urls[i];\n",
       "      const element = document.createElement(\"link\");\n",
       "      element.onload = on_load;\n",
       "      element.onerror = on_error.bind(null, url);\n",
       "      element.rel = \"stylesheet\";\n",
       "      element.type = \"text/css\";\n",
       "      element.href = url;\n",
       "      console.debug(\"Bokeh: injecting link tag for BokehJS stylesheet: \", url);\n",
       "      document.body.appendChild(element);\n",
       "    }\n",
       "\n",
       "    for (let i = 0; i < js_urls.length; i++) {\n",
       "      const url = js_urls[i];\n",
       "      const element = document.createElement('script');\n",
       "      element.onload = on_load;\n",
       "      element.onerror = on_error.bind(null, url);\n",
       "      element.async = false;\n",
       "      element.src = url;\n",
       "      console.debug(\"Bokeh: injecting script tag for BokehJS library: \", url);\n",
       "      document.head.appendChild(element);\n",
       "    }\n",
       "  };\n",
       "\n",
       "  function inject_raw_css(css) {\n",
       "    const element = document.createElement(\"style\");\n",
       "    element.appendChild(document.createTextNode(css));\n",
       "    document.body.appendChild(element);\n",
       "  }\n",
       "\n",
       "  const js_urls = [\"https://cdn.bokeh.org/bokeh/release/bokeh-2.4.3.min.js\", \"https://cdn.bokeh.org/bokeh/release/bokeh-gl-2.4.3.min.js\", \"https://cdn.bokeh.org/bokeh/release/bokeh-widgets-2.4.3.min.js\", \"https://cdn.bokeh.org/bokeh/release/bokeh-tables-2.4.3.min.js\", \"https://cdn.bokeh.org/bokeh/release/bokeh-mathjax-2.4.3.min.js\"];\n",
       "  const css_urls = [];\n",
       "\n",
       "  const inline_js = [    function(Bokeh) {\n",
       "      Bokeh.set_log_level(\"info\");\n",
       "    },\n",
       "function(Bokeh) {\n",
       "    }\n",
       "  ];\n",
       "\n",
       "  function run_inline_js() {\n",
       "    if (root.Bokeh !== undefined || force === true) {\n",
       "          for (let i = 0; i < inline_js.length; i++) {\n",
       "      inline_js[i].call(root, root.Bokeh);\n",
       "    }\n",
       "if (force === true) {\n",
       "        display_loaded();\n",
       "      }} else if (Date.now() < root._bokeh_timeout) {\n",
       "      setTimeout(run_inline_js, 100);\n",
       "    } else if (!root._bokeh_failed_load) {\n",
       "      console.log(\"Bokeh: BokehJS failed to load within specified timeout.\");\n",
       "      root._bokeh_failed_load = true;\n",
       "    } else if (force !== true) {\n",
       "      const cell = $(document.getElementById(\"1002\")).parents('.cell').data().cell;\n",
       "      cell.output_area.append_execute_result(NB_LOAD_WARNING)\n",
       "    }\n",
       "  }\n",
       "\n",
       "  if (root._bokeh_is_loading === 0) {\n",
       "    console.debug(\"Bokeh: BokehJS loaded, going straight to plotting\");\n",
       "    run_inline_js();\n",
       "  } else {\n",
       "    load_libs(css_urls, js_urls, function() {\n",
       "      console.debug(\"Bokeh: BokehJS plotting callback run at\", now());\n",
       "      run_inline_js();\n",
       "    });\n",
       "  }\n",
       "}(window));"
      ],
      "application/vnd.bokehjs_load.v0+json": "(function(root) {\n  function now() {\n    return new Date();\n  }\n\n  const force = true;\n\n  if (typeof root._bokeh_onload_callbacks === \"undefined\" || force === true) {\n    root._bokeh_onload_callbacks = [];\n    root._bokeh_is_loading = undefined;\n  }\n\n\n  if (typeof (root._bokeh_timeout) === \"undefined\" || force === true) {\n    root._bokeh_timeout = Date.now() + 5000;\n    root._bokeh_failed_load = false;\n  }\n\n  const NB_LOAD_WARNING = {'data': {'text/html':\n     \"<div style='background-color: #fdd'>\\n\"+\n     \"<p>\\n\"+\n     \"BokehJS does not appear to have successfully loaded. If loading BokehJS from CDN, this \\n\"+\n     \"may be due to a slow or bad network connection. Possible fixes:\\n\"+\n     \"</p>\\n\"+\n     \"<ul>\\n\"+\n     \"<li>re-rerun `output_notebook()` to attempt to load from CDN again, or</li>\\n\"+\n     \"<li>use INLINE resources instead, as so:</li>\\n\"+\n     \"</ul>\\n\"+\n     \"<code>\\n\"+\n     \"from bokeh.resources import INLINE\\n\"+\n     \"output_notebook(resources=INLINE)\\n\"+\n     \"</code>\\n\"+\n     \"</div>\"}};\n\n  function display_loaded() {\n    const el = document.getElementById(\"1002\");\n    if (el != null) {\n      el.textContent = \"BokehJS is loading...\";\n    }\n    if (root.Bokeh !== undefined) {\n      if (el != null) {\n        el.textContent = \"BokehJS \" + root.Bokeh.version + \" successfully loaded.\";\n      }\n    } else if (Date.now() < root._bokeh_timeout) {\n      setTimeout(display_loaded, 100)\n    }\n  }\n\n  function run_callbacks() {\n    try {\n      root._bokeh_onload_callbacks.forEach(function(callback) {\n        if (callback != null)\n          callback();\n      });\n    } finally {\n      delete root._bokeh_onload_callbacks\n    }\n    console.debug(\"Bokeh: all callbacks have finished\");\n  }\n\n  function load_libs(css_urls, js_urls, callback) {\n    if (css_urls == null) css_urls = [];\n    if (js_urls == null) js_urls = [];\n\n    root._bokeh_onload_callbacks.push(callback);\n    if (root._bokeh_is_loading > 0) {\n      console.debug(\"Bokeh: BokehJS is being loaded, scheduling callback at\", now());\n      return null;\n    }\n    if (js_urls == null || js_urls.length === 0) {\n      run_callbacks();\n      return null;\n    }\n    console.debug(\"Bokeh: BokehJS not loaded, scheduling load and callback at\", now());\n    root._bokeh_is_loading = css_urls.length + js_urls.length;\n\n    function on_load() {\n      root._bokeh_is_loading--;\n      if (root._bokeh_is_loading === 0) {\n        console.debug(\"Bokeh: all BokehJS libraries/stylesheets loaded\");\n        run_callbacks()\n      }\n    }\n\n    function on_error(url) {\n      console.error(\"failed to load \" + url);\n    }\n\n    for (let i = 0; i < css_urls.length; i++) {\n      const url = css_urls[i];\n      const element = document.createElement(\"link\");\n      element.onload = on_load;\n      element.onerror = on_error.bind(null, url);\n      element.rel = \"stylesheet\";\n      element.type = \"text/css\";\n      element.href = url;\n      console.debug(\"Bokeh: injecting link tag for BokehJS stylesheet: \", url);\n      document.body.appendChild(element);\n    }\n\n    for (let i = 0; i < js_urls.length; i++) {\n      const url = js_urls[i];\n      const element = document.createElement('script');\n      element.onload = on_load;\n      element.onerror = on_error.bind(null, url);\n      element.async = false;\n      element.src = url;\n      console.debug(\"Bokeh: injecting script tag for BokehJS library: \", url);\n      document.head.appendChild(element);\n    }\n  };\n\n  function inject_raw_css(css) {\n    const element = document.createElement(\"style\");\n    element.appendChild(document.createTextNode(css));\n    document.body.appendChild(element);\n  }\n\n  const js_urls = [\"https://cdn.bokeh.org/bokeh/release/bokeh-2.4.3.min.js\", \"https://cdn.bokeh.org/bokeh/release/bokeh-gl-2.4.3.min.js\", \"https://cdn.bokeh.org/bokeh/release/bokeh-widgets-2.4.3.min.js\", \"https://cdn.bokeh.org/bokeh/release/bokeh-tables-2.4.3.min.js\", \"https://cdn.bokeh.org/bokeh/release/bokeh-mathjax-2.4.3.min.js\"];\n  const css_urls = [];\n\n  const inline_js = [    function(Bokeh) {\n      Bokeh.set_log_level(\"info\");\n    },\nfunction(Bokeh) {\n    }\n  ];\n\n  function run_inline_js() {\n    if (root.Bokeh !== undefined || force === true) {\n          for (let i = 0; i < inline_js.length; i++) {\n      inline_js[i].call(root, root.Bokeh);\n    }\nif (force === true) {\n        display_loaded();\n      }} else if (Date.now() < root._bokeh_timeout) {\n      setTimeout(run_inline_js, 100);\n    } else if (!root._bokeh_failed_load) {\n      console.log(\"Bokeh: BokehJS failed to load within specified timeout.\");\n      root._bokeh_failed_load = true;\n    } else if (force !== true) {\n      const cell = $(document.getElementById(\"1002\")).parents('.cell').data().cell;\n      cell.output_area.append_execute_result(NB_LOAD_WARNING)\n    }\n  }\n\n  if (root._bokeh_is_loading === 0) {\n    console.debug(\"Bokeh: BokehJS loaded, going straight to plotting\");\n    run_inline_js();\n  } else {\n    load_libs(css_urls, js_urls, function() {\n      console.debug(\"Bokeh: BokehJS plotting callback run at\", now());\n      run_inline_js();\n    });\n  }\n}(window));"
     },
     "metadata": {},
     "output_type": "display_data"
    },
    {
     "data": {
      "text/html": [
       "        <script type=\"text/javascript\">\n",
       "        window.PlotlyConfig = {MathJaxConfig: 'local'};\n",
       "        if (window.MathJax && window.MathJax.Hub && window.MathJax.Hub.Config) {window.MathJax.Hub.Config({SVG: {font: \"STIX-Web\"}});}\n",
       "        if (typeof require !== 'undefined') {\n",
       "        require.undef(\"plotly\");\n",
       "        requirejs.config({\n",
       "            paths: {\n",
       "                'plotly': ['https://cdn.plot.ly/plotly-2.35.2.min']\n",
       "            }\n",
       "        });\n",
       "        require(['plotly'], function(Plotly) {\n",
       "            window._Plotly = Plotly;\n",
       "        });\n",
       "        }\n",
       "        </script>\n",
       "        "
      ]
     },
     "metadata": {},
     "output_type": "display_data"
    }
   ],
   "source": [
    "import pandas as pd\n",
    "from dataclasses import dataclass\n",
    "from IPython.display import HTML\n",
    "import statsmodels.api as sm\n",
    "import pprint as pprint\n",
    "import numpy as np\n",
    "from statsmodels.stats.outliers_influence import variance_inflation_factor\n",
    "import statsmodels.formula.api as smf\n",
    "import statsmodels.api as sm\n",
    "import re\n",
    "import seaborn as sns\n",
    "import plotly.express as px\n",
    "from dominance_analysis import Dominance"
   ]
  },
  {
   "cell_type": "markdown",
   "id": "58dd7a7d",
   "metadata": {},
   "source": [
    "# 1. Exploratory Data Analysis (EDA)\n",
    "* Data Type\n",
    "* Unique Values\n",
    "* Missing Values\n",
    "\n",
    "Notes: \n",
    "* **ADR**: had negative values and a max of 5,400"
   ]
  },
  {
   "cell_type": "code",
   "execution_count": 2,
   "id": "9f4d99c0",
   "metadata": {},
   "outputs": [
    {
     "data": {
      "text/html": [
       "<div>\n",
       "<style scoped>\n",
       "    .dataframe tbody tr th:only-of-type {\n",
       "        vertical-align: middle;\n",
       "    }\n",
       "\n",
       "    .dataframe tbody tr th {\n",
       "        vertical-align: top;\n",
       "    }\n",
       "\n",
       "    .dataframe thead th {\n",
       "        text-align: right;\n",
       "    }\n",
       "</style>\n",
       "<table border=\"1\" class=\"dataframe\">\n",
       "  <thead>\n",
       "    <tr style=\"text-align: right;\">\n",
       "      <th></th>\n",
       "      <th>hotel</th>\n",
       "      <th>is_canceled</th>\n",
       "      <th>lead_time</th>\n",
       "      <th>arrival_date_year</th>\n",
       "      <th>arrival_date_month</th>\n",
       "      <th>arrival_date_week_number</th>\n",
       "      <th>arrival_date_day_of_month</th>\n",
       "      <th>stays_in_weekend_nights</th>\n",
       "      <th>stays_in_week_nights</th>\n",
       "      <th>adults</th>\n",
       "      <th>...</th>\n",
       "      <th>deposit_type</th>\n",
       "      <th>agent</th>\n",
       "      <th>company</th>\n",
       "      <th>days_in_waiting_list</th>\n",
       "      <th>customer_type</th>\n",
       "      <th>adr</th>\n",
       "      <th>required_car_parking_spaces</th>\n",
       "      <th>total_of_special_requests</th>\n",
       "      <th>reservation_status</th>\n",
       "      <th>reservation_status_date</th>\n",
       "    </tr>\n",
       "  </thead>\n",
       "  <tbody>\n",
       "    <tr>\n",
       "      <th>0</th>\n",
       "      <td>Resort Hotel</td>\n",
       "      <td>0</td>\n",
       "      <td>342</td>\n",
       "      <td>2015</td>\n",
       "      <td>July</td>\n",
       "      <td>27</td>\n",
       "      <td>1</td>\n",
       "      <td>0</td>\n",
       "      <td>0</td>\n",
       "      <td>2</td>\n",
       "      <td>...</td>\n",
       "      <td>No Deposit</td>\n",
       "      <td>NaN</td>\n",
       "      <td>NaN</td>\n",
       "      <td>0</td>\n",
       "      <td>Transient</td>\n",
       "      <td>0.0</td>\n",
       "      <td>0</td>\n",
       "      <td>0</td>\n",
       "      <td>Check-Out</td>\n",
       "      <td>2015-07-01</td>\n",
       "    </tr>\n",
       "    <tr>\n",
       "      <th>1</th>\n",
       "      <td>Resort Hotel</td>\n",
       "      <td>0</td>\n",
       "      <td>737</td>\n",
       "      <td>2015</td>\n",
       "      <td>July</td>\n",
       "      <td>27</td>\n",
       "      <td>1</td>\n",
       "      <td>0</td>\n",
       "      <td>0</td>\n",
       "      <td>2</td>\n",
       "      <td>...</td>\n",
       "      <td>No Deposit</td>\n",
       "      <td>NaN</td>\n",
       "      <td>NaN</td>\n",
       "      <td>0</td>\n",
       "      <td>Transient</td>\n",
       "      <td>0.0</td>\n",
       "      <td>0</td>\n",
       "      <td>0</td>\n",
       "      <td>Check-Out</td>\n",
       "      <td>2015-07-01</td>\n",
       "    </tr>\n",
       "    <tr>\n",
       "      <th>2</th>\n",
       "      <td>Resort Hotel</td>\n",
       "      <td>0</td>\n",
       "      <td>7</td>\n",
       "      <td>2015</td>\n",
       "      <td>July</td>\n",
       "      <td>27</td>\n",
       "      <td>1</td>\n",
       "      <td>0</td>\n",
       "      <td>1</td>\n",
       "      <td>1</td>\n",
       "      <td>...</td>\n",
       "      <td>No Deposit</td>\n",
       "      <td>NaN</td>\n",
       "      <td>NaN</td>\n",
       "      <td>0</td>\n",
       "      <td>Transient</td>\n",
       "      <td>75.0</td>\n",
       "      <td>0</td>\n",
       "      <td>0</td>\n",
       "      <td>Check-Out</td>\n",
       "      <td>2015-07-02</td>\n",
       "    </tr>\n",
       "    <tr>\n",
       "      <th>3</th>\n",
       "      <td>Resort Hotel</td>\n",
       "      <td>0</td>\n",
       "      <td>13</td>\n",
       "      <td>2015</td>\n",
       "      <td>July</td>\n",
       "      <td>27</td>\n",
       "      <td>1</td>\n",
       "      <td>0</td>\n",
       "      <td>1</td>\n",
       "      <td>1</td>\n",
       "      <td>...</td>\n",
       "      <td>No Deposit</td>\n",
       "      <td>304.0</td>\n",
       "      <td>NaN</td>\n",
       "      <td>0</td>\n",
       "      <td>Transient</td>\n",
       "      <td>75.0</td>\n",
       "      <td>0</td>\n",
       "      <td>0</td>\n",
       "      <td>Check-Out</td>\n",
       "      <td>2015-07-02</td>\n",
       "    </tr>\n",
       "    <tr>\n",
       "      <th>4</th>\n",
       "      <td>Resort Hotel</td>\n",
       "      <td>0</td>\n",
       "      <td>14</td>\n",
       "      <td>2015</td>\n",
       "      <td>July</td>\n",
       "      <td>27</td>\n",
       "      <td>1</td>\n",
       "      <td>0</td>\n",
       "      <td>2</td>\n",
       "      <td>2</td>\n",
       "      <td>...</td>\n",
       "      <td>No Deposit</td>\n",
       "      <td>240.0</td>\n",
       "      <td>NaN</td>\n",
       "      <td>0</td>\n",
       "      <td>Transient</td>\n",
       "      <td>98.0</td>\n",
       "      <td>0</td>\n",
       "      <td>1</td>\n",
       "      <td>Check-Out</td>\n",
       "      <td>2015-07-03</td>\n",
       "    </tr>\n",
       "  </tbody>\n",
       "</table>\n",
       "<p>5 rows × 32 columns</p>\n",
       "</div>"
      ],
      "text/plain": [
       "          hotel  is_canceled  lead_time  arrival_date_year arrival_date_month  \\\n",
       "0  Resort Hotel            0        342               2015               July   \n",
       "1  Resort Hotel            0        737               2015               July   \n",
       "2  Resort Hotel            0          7               2015               July   \n",
       "3  Resort Hotel            0         13               2015               July   \n",
       "4  Resort Hotel            0         14               2015               July   \n",
       "\n",
       "   arrival_date_week_number  arrival_date_day_of_month  \\\n",
       "0                        27                          1   \n",
       "1                        27                          1   \n",
       "2                        27                          1   \n",
       "3                        27                          1   \n",
       "4                        27                          1   \n",
       "\n",
       "   stays_in_weekend_nights  stays_in_week_nights  adults  ...  deposit_type  \\\n",
       "0                        0                     0       2  ...    No Deposit   \n",
       "1                        0                     0       2  ...    No Deposit   \n",
       "2                        0                     1       1  ...    No Deposit   \n",
       "3                        0                     1       1  ...    No Deposit   \n",
       "4                        0                     2       2  ...    No Deposit   \n",
       "\n",
       "   agent company days_in_waiting_list customer_type   adr  \\\n",
       "0    NaN     NaN                    0     Transient   0.0   \n",
       "1    NaN     NaN                    0     Transient   0.0   \n",
       "2    NaN     NaN                    0     Transient  75.0   \n",
       "3  304.0     NaN                    0     Transient  75.0   \n",
       "4  240.0     NaN                    0     Transient  98.0   \n",
       "\n",
       "   required_car_parking_spaces  total_of_special_requests  reservation_status  \\\n",
       "0                            0                          0           Check-Out   \n",
       "1                            0                          0           Check-Out   \n",
       "2                            0                          0           Check-Out   \n",
       "3                            0                          0           Check-Out   \n",
       "4                            0                          1           Check-Out   \n",
       "\n",
       "  reservation_status_date  \n",
       "0              2015-07-01  \n",
       "1              2015-07-01  \n",
       "2              2015-07-02  \n",
       "3              2015-07-02  \n",
       "4              2015-07-03  \n",
       "\n",
       "[5 rows x 32 columns]"
      ]
     },
     "metadata": {},
     "output_type": "display_data"
    }
   ],
   "source": [
    "df = pd.read_csv(\"data/raw/hotel_bookings.csv\")\n",
    "display(df.head())"
   ]
  },
  {
   "cell_type": "code",
   "execution_count": 3,
   "id": "7d78a45b",
   "metadata": {},
   "outputs": [
    {
     "data": {
      "text/plain": [
       "(119390, 32)"
      ]
     },
     "execution_count": 3,
     "metadata": {},
     "output_type": "execute_result"
    }
   ],
   "source": [
    "df.shape"
   ]
  },
  {
   "cell_type": "code",
   "execution_count": 4,
   "id": "668cb2cb",
   "metadata": {},
   "outputs": [
    {
     "data": {
      "text/plain": [
       "hotel                              object\n",
       "is_canceled                         int64\n",
       "lead_time                           int64\n",
       "arrival_date_year                   int64\n",
       "arrival_date_month                 object\n",
       "arrival_date_week_number            int64\n",
       "arrival_date_day_of_month           int64\n",
       "stays_in_weekend_nights             int64\n",
       "stays_in_week_nights                int64\n",
       "adults                              int64\n",
       "children                          float64\n",
       "babies                              int64\n",
       "meal                               object\n",
       "country                            object\n",
       "market_segment                     object\n",
       "distribution_channel               object\n",
       "is_repeated_guest                   int64\n",
       "previous_cancellations              int64\n",
       "previous_bookings_not_canceled      int64\n",
       "reserved_room_type                 object\n",
       "assigned_room_type                 object\n",
       "booking_changes                     int64\n",
       "deposit_type                       object\n",
       "agent                             float64\n",
       "company                           float64\n",
       "days_in_waiting_list                int64\n",
       "customer_type                      object\n",
       "adr                               float64\n",
       "required_car_parking_spaces         int64\n",
       "total_of_special_requests           int64\n",
       "reservation_status                 object\n",
       "reservation_status_date            object\n",
       "dtype: object"
      ]
     },
     "execution_count": 4,
     "metadata": {},
     "output_type": "execute_result"
    }
   ],
   "source": [
    "df.dtypes"
   ]
  },
  {
   "cell_type": "code",
   "execution_count": 5,
   "id": "7dc6a751",
   "metadata": {},
   "outputs": [
    {
     "data": {
      "text/html": [
       "<div>\n",
       "<style scoped>\n",
       "    .dataframe tbody tr th:only-of-type {\n",
       "        vertical-align: middle;\n",
       "    }\n",
       "\n",
       "    .dataframe tbody tr th {\n",
       "        vertical-align: top;\n",
       "    }\n",
       "\n",
       "    .dataframe thead th {\n",
       "        text-align: right;\n",
       "    }\n",
       "</style>\n",
       "<table border=\"1\" class=\"dataframe\">\n",
       "  <thead>\n",
       "    <tr style=\"text-align: right;\">\n",
       "      <th></th>\n",
       "      <th>is_canceled</th>\n",
       "      <th>lead_time</th>\n",
       "      <th>arrival_date_year</th>\n",
       "      <th>arrival_date_week_number</th>\n",
       "      <th>arrival_date_day_of_month</th>\n",
       "      <th>stays_in_weekend_nights</th>\n",
       "      <th>stays_in_week_nights</th>\n",
       "      <th>adults</th>\n",
       "      <th>children</th>\n",
       "      <th>babies</th>\n",
       "      <th>is_repeated_guest</th>\n",
       "      <th>previous_cancellations</th>\n",
       "      <th>previous_bookings_not_canceled</th>\n",
       "      <th>booking_changes</th>\n",
       "      <th>agent</th>\n",
       "      <th>company</th>\n",
       "      <th>days_in_waiting_list</th>\n",
       "      <th>adr</th>\n",
       "      <th>required_car_parking_spaces</th>\n",
       "      <th>total_of_special_requests</th>\n",
       "    </tr>\n",
       "  </thead>\n",
       "  <tbody>\n",
       "    <tr>\n",
       "      <th>count</th>\n",
       "      <td>119390.000000</td>\n",
       "      <td>119390.000000</td>\n",
       "      <td>119390.000000</td>\n",
       "      <td>119390.000000</td>\n",
       "      <td>119390.000000</td>\n",
       "      <td>119390.000000</td>\n",
       "      <td>119390.000000</td>\n",
       "      <td>119390.000000</td>\n",
       "      <td>119386.000000</td>\n",
       "      <td>119390.000000</td>\n",
       "      <td>119390.000000</td>\n",
       "      <td>119390.000000</td>\n",
       "      <td>119390.000000</td>\n",
       "      <td>119390.000000</td>\n",
       "      <td>103050.000000</td>\n",
       "      <td>6797.000000</td>\n",
       "      <td>119390.000000</td>\n",
       "      <td>119390.000000</td>\n",
       "      <td>119390.000000</td>\n",
       "      <td>119390.000000</td>\n",
       "    </tr>\n",
       "    <tr>\n",
       "      <th>mean</th>\n",
       "      <td>0.370416</td>\n",
       "      <td>104.011416</td>\n",
       "      <td>2016.156554</td>\n",
       "      <td>27.165173</td>\n",
       "      <td>15.798241</td>\n",
       "      <td>0.927599</td>\n",
       "      <td>2.500302</td>\n",
       "      <td>1.856403</td>\n",
       "      <td>0.103890</td>\n",
       "      <td>0.007949</td>\n",
       "      <td>0.031912</td>\n",
       "      <td>0.087118</td>\n",
       "      <td>0.137097</td>\n",
       "      <td>0.221124</td>\n",
       "      <td>86.693382</td>\n",
       "      <td>189.266735</td>\n",
       "      <td>2.321149</td>\n",
       "      <td>101.831122</td>\n",
       "      <td>0.062518</td>\n",
       "      <td>0.571363</td>\n",
       "    </tr>\n",
       "    <tr>\n",
       "      <th>std</th>\n",
       "      <td>0.482918</td>\n",
       "      <td>106.863097</td>\n",
       "      <td>0.707476</td>\n",
       "      <td>13.605138</td>\n",
       "      <td>8.780829</td>\n",
       "      <td>0.998613</td>\n",
       "      <td>1.908286</td>\n",
       "      <td>0.579261</td>\n",
       "      <td>0.398561</td>\n",
       "      <td>0.097436</td>\n",
       "      <td>0.175767</td>\n",
       "      <td>0.844336</td>\n",
       "      <td>1.497437</td>\n",
       "      <td>0.652306</td>\n",
       "      <td>110.774548</td>\n",
       "      <td>131.655015</td>\n",
       "      <td>17.594721</td>\n",
       "      <td>50.535790</td>\n",
       "      <td>0.245291</td>\n",
       "      <td>0.792798</td>\n",
       "    </tr>\n",
       "    <tr>\n",
       "      <th>min</th>\n",
       "      <td>0.000000</td>\n",
       "      <td>0.000000</td>\n",
       "      <td>2015.000000</td>\n",
       "      <td>1.000000</td>\n",
       "      <td>1.000000</td>\n",
       "      <td>0.000000</td>\n",
       "      <td>0.000000</td>\n",
       "      <td>0.000000</td>\n",
       "      <td>0.000000</td>\n",
       "      <td>0.000000</td>\n",
       "      <td>0.000000</td>\n",
       "      <td>0.000000</td>\n",
       "      <td>0.000000</td>\n",
       "      <td>0.000000</td>\n",
       "      <td>1.000000</td>\n",
       "      <td>6.000000</td>\n",
       "      <td>0.000000</td>\n",
       "      <td>-6.380000</td>\n",
       "      <td>0.000000</td>\n",
       "      <td>0.000000</td>\n",
       "    </tr>\n",
       "    <tr>\n",
       "      <th>25%</th>\n",
       "      <td>0.000000</td>\n",
       "      <td>18.000000</td>\n",
       "      <td>2016.000000</td>\n",
       "      <td>16.000000</td>\n",
       "      <td>8.000000</td>\n",
       "      <td>0.000000</td>\n",
       "      <td>1.000000</td>\n",
       "      <td>2.000000</td>\n",
       "      <td>0.000000</td>\n",
       "      <td>0.000000</td>\n",
       "      <td>0.000000</td>\n",
       "      <td>0.000000</td>\n",
       "      <td>0.000000</td>\n",
       "      <td>0.000000</td>\n",
       "      <td>9.000000</td>\n",
       "      <td>62.000000</td>\n",
       "      <td>0.000000</td>\n",
       "      <td>69.290000</td>\n",
       "      <td>0.000000</td>\n",
       "      <td>0.000000</td>\n",
       "    </tr>\n",
       "    <tr>\n",
       "      <th>50%</th>\n",
       "      <td>0.000000</td>\n",
       "      <td>69.000000</td>\n",
       "      <td>2016.000000</td>\n",
       "      <td>28.000000</td>\n",
       "      <td>16.000000</td>\n",
       "      <td>1.000000</td>\n",
       "      <td>2.000000</td>\n",
       "      <td>2.000000</td>\n",
       "      <td>0.000000</td>\n",
       "      <td>0.000000</td>\n",
       "      <td>0.000000</td>\n",
       "      <td>0.000000</td>\n",
       "      <td>0.000000</td>\n",
       "      <td>0.000000</td>\n",
       "      <td>14.000000</td>\n",
       "      <td>179.000000</td>\n",
       "      <td>0.000000</td>\n",
       "      <td>94.575000</td>\n",
       "      <td>0.000000</td>\n",
       "      <td>0.000000</td>\n",
       "    </tr>\n",
       "    <tr>\n",
       "      <th>75%</th>\n",
       "      <td>1.000000</td>\n",
       "      <td>160.000000</td>\n",
       "      <td>2017.000000</td>\n",
       "      <td>38.000000</td>\n",
       "      <td>23.000000</td>\n",
       "      <td>2.000000</td>\n",
       "      <td>3.000000</td>\n",
       "      <td>2.000000</td>\n",
       "      <td>0.000000</td>\n",
       "      <td>0.000000</td>\n",
       "      <td>0.000000</td>\n",
       "      <td>0.000000</td>\n",
       "      <td>0.000000</td>\n",
       "      <td>0.000000</td>\n",
       "      <td>229.000000</td>\n",
       "      <td>270.000000</td>\n",
       "      <td>0.000000</td>\n",
       "      <td>126.000000</td>\n",
       "      <td>0.000000</td>\n",
       "      <td>1.000000</td>\n",
       "    </tr>\n",
       "    <tr>\n",
       "      <th>max</th>\n",
       "      <td>1.000000</td>\n",
       "      <td>737.000000</td>\n",
       "      <td>2017.000000</td>\n",
       "      <td>53.000000</td>\n",
       "      <td>31.000000</td>\n",
       "      <td>19.000000</td>\n",
       "      <td>50.000000</td>\n",
       "      <td>55.000000</td>\n",
       "      <td>10.000000</td>\n",
       "      <td>10.000000</td>\n",
       "      <td>1.000000</td>\n",
       "      <td>26.000000</td>\n",
       "      <td>72.000000</td>\n",
       "      <td>21.000000</td>\n",
       "      <td>535.000000</td>\n",
       "      <td>543.000000</td>\n",
       "      <td>391.000000</td>\n",
       "      <td>5400.000000</td>\n",
       "      <td>8.000000</td>\n",
       "      <td>5.000000</td>\n",
       "    </tr>\n",
       "  </tbody>\n",
       "</table>\n",
       "</div>"
      ],
      "text/plain": [
       "         is_canceled      lead_time  arrival_date_year  \\\n",
       "count  119390.000000  119390.000000      119390.000000   \n",
       "mean        0.370416     104.011416        2016.156554   \n",
       "std         0.482918     106.863097           0.707476   \n",
       "min         0.000000       0.000000        2015.000000   \n",
       "25%         0.000000      18.000000        2016.000000   \n",
       "50%         0.000000      69.000000        2016.000000   \n",
       "75%         1.000000     160.000000        2017.000000   \n",
       "max         1.000000     737.000000        2017.000000   \n",
       "\n",
       "       arrival_date_week_number  arrival_date_day_of_month  \\\n",
       "count             119390.000000              119390.000000   \n",
       "mean                  27.165173                  15.798241   \n",
       "std                   13.605138                   8.780829   \n",
       "min                    1.000000                   1.000000   \n",
       "25%                   16.000000                   8.000000   \n",
       "50%                   28.000000                  16.000000   \n",
       "75%                   38.000000                  23.000000   \n",
       "max                   53.000000                  31.000000   \n",
       "\n",
       "       stays_in_weekend_nights  stays_in_week_nights         adults  \\\n",
       "count            119390.000000         119390.000000  119390.000000   \n",
       "mean                  0.927599              2.500302       1.856403   \n",
       "std                   0.998613              1.908286       0.579261   \n",
       "min                   0.000000              0.000000       0.000000   \n",
       "25%                   0.000000              1.000000       2.000000   \n",
       "50%                   1.000000              2.000000       2.000000   \n",
       "75%                   2.000000              3.000000       2.000000   \n",
       "max                  19.000000             50.000000      55.000000   \n",
       "\n",
       "            children         babies  is_repeated_guest  \\\n",
       "count  119386.000000  119390.000000      119390.000000   \n",
       "mean        0.103890       0.007949           0.031912   \n",
       "std         0.398561       0.097436           0.175767   \n",
       "min         0.000000       0.000000           0.000000   \n",
       "25%         0.000000       0.000000           0.000000   \n",
       "50%         0.000000       0.000000           0.000000   \n",
       "75%         0.000000       0.000000           0.000000   \n",
       "max        10.000000      10.000000           1.000000   \n",
       "\n",
       "       previous_cancellations  previous_bookings_not_canceled  \\\n",
       "count           119390.000000                   119390.000000   \n",
       "mean                 0.087118                        0.137097   \n",
       "std                  0.844336                        1.497437   \n",
       "min                  0.000000                        0.000000   \n",
       "25%                  0.000000                        0.000000   \n",
       "50%                  0.000000                        0.000000   \n",
       "75%                  0.000000                        0.000000   \n",
       "max                 26.000000                       72.000000   \n",
       "\n",
       "       booking_changes          agent      company  days_in_waiting_list  \\\n",
       "count    119390.000000  103050.000000  6797.000000         119390.000000   \n",
       "mean          0.221124      86.693382   189.266735              2.321149   \n",
       "std           0.652306     110.774548   131.655015             17.594721   \n",
       "min           0.000000       1.000000     6.000000              0.000000   \n",
       "25%           0.000000       9.000000    62.000000              0.000000   \n",
       "50%           0.000000      14.000000   179.000000              0.000000   \n",
       "75%           0.000000     229.000000   270.000000              0.000000   \n",
       "max          21.000000     535.000000   543.000000            391.000000   \n",
       "\n",
       "                 adr  required_car_parking_spaces  total_of_special_requests  \n",
       "count  119390.000000                119390.000000              119390.000000  \n",
       "mean      101.831122                     0.062518                   0.571363  \n",
       "std        50.535790                     0.245291                   0.792798  \n",
       "min        -6.380000                     0.000000                   0.000000  \n",
       "25%        69.290000                     0.000000                   0.000000  \n",
       "50%        94.575000                     0.000000                   0.000000  \n",
       "75%       126.000000                     0.000000                   1.000000  \n",
       "max      5400.000000                     8.000000                   5.000000  "
      ]
     },
     "metadata": {},
     "output_type": "display_data"
    }
   ],
   "source": [
    "display(df.describe())"
   ]
  },
  {
   "cell_type": "markdown",
   "id": "2a626ba4",
   "metadata": {},
   "source": [
    "## Check for Missing Values"
   ]
  },
  {
   "cell_type": "code",
   "execution_count": 6,
   "id": "4f27e271",
   "metadata": {},
   "outputs": [
    {
     "name": "stdout",
     "output_type": "stream",
     "text": [
      "Column 'children' has 0.00% missing values.\n",
      "Column 'country' has 0.41% missing values.\n",
      "Column 'agent' has 13.69% missing values.\n",
      "Column 'company' has 94.31% missing values.\n"
     ]
    }
   ],
   "source": [
    "def check_missing_proportion(df):\n",
    "    # Calculate the proportion of missing values in each column\n",
    "    missing_proportion = df.isnull().mean()\n",
    "\n",
    "    # Filter out columns with no missing values (if needed)\n",
    "    missing_proportion = missing_proportion[missing_proportion > 0]\n",
    "\n",
    "    if missing_proportion.empty:\n",
    "        print(\"No columns with missing values.\")\n",
    "    else:\n",
    "        # Print the missing proportion for each column\n",
    "        for col, prop in missing_proportion.items():\n",
    "            print(f\"Column '{col}' has {prop * 100:.2f}% missing values.\")\n",
    "            \n",
    "check_missing_proportion(df=df)"
   ]
  },
  {
   "cell_type": "markdown",
   "id": "22b2bbb5",
   "metadata": {},
   "source": [
    "## Check for Unique Values"
   ]
  },
  {
   "cell_type": "code",
   "execution_count": 7,
   "id": "54a22bcd",
   "metadata": {},
   "outputs": [
    {
     "name": "stdout",
     "output_type": "stream",
     "text": [
      "Column 'hotel' has 2 unique values.\n",
      "Column 'arrival_date_month' has 12 unique values.\n",
      "Column 'meal' has 5 unique values.\n",
      "Column 'country' has 177 unique values.\n",
      "Column 'market_segment' has 8 unique values.\n",
      "Column 'distribution_channel' has 5 unique values.\n",
      "Column 'reserved_room_type' has 10 unique values.\n",
      "Column 'assigned_room_type' has 12 unique values.\n",
      "Column 'deposit_type' has 3 unique values.\n",
      "Column 'customer_type' has 4 unique values.\n",
      "Column 'reservation_status' has 3 unique values.\n",
      "Column 'reservation_status_date' has 926 unique values.\n"
     ]
    }
   ],
   "source": [
    "# Function to check unique values in categorical columns\n",
    "def unique_values_in_categorical_columns(df):\n",
    "    # Select categorical columns (object and category data types)\n",
    "    categorical_cols = df.select_dtypes(include=['object', 'category'])\n",
    "\n",
    "    # Calculate the number of unique values in each categorical column\n",
    "    unique_counts = categorical_cols.nunique()\n",
    "\n",
    "    if unique_counts.empty:\n",
    "        print(\"No categorical columns in the DataFrame.\")\n",
    "    else:\n",
    "        # Print the number of unique values for each categorical column\n",
    "        for col, count in unique_counts.items():\n",
    "            print(f\"Column '{col}' has {count} unique values.\")\n",
    "\n",
    "unique_values_in_categorical_columns(df)"
   ]
  },
  {
   "cell_type": "markdown",
   "id": "f91a939b",
   "metadata": {},
   "source": [
    "## Display Unique Values for Categorical Variables\n",
    "I'm interested in cases where there are less than 20 nunique values."
   ]
  },
  {
   "cell_type": "code",
   "execution_count": 8,
   "id": "405f9de5",
   "metadata": {},
   "outputs": [
    {
     "name": "stdout",
     "output_type": "stream",
     "text": [
      "Column 'arrival_date_month' has 12 unique values (<= 20): ['July' 'August' 'September' 'October' 'November' 'December' 'January'\n",
      " 'February' 'March' 'April' 'May' 'June']\n",
      "Column 'assigned_room_type' has 12 unique values (<= 20): ['C' 'A' 'D' 'E' 'G' 'F' 'I' 'B' 'H' 'P' 'L' 'K']\n",
      "Column 'customer_type' has 4 unique values (<= 20): ['Transient' 'Contract' 'Transient-Party' 'Group']\n",
      "Column 'deposit_type' has 3 unique values (<= 20): ['No Deposit' 'Refundable' 'Non Refund']\n",
      "Column 'distribution_channel' has 5 unique values (<= 20): ['Direct' 'Corporate' 'TA/TO' 'Undefined' 'GDS']\n",
      "Column 'hotel' has 2 unique values (<= 20): ['Resort Hotel' 'City Hotel']\n",
      "Column 'market_segment' has 8 unique values (<= 20): ['Direct' 'Corporate' 'Online TA' 'Offline TA/TO' 'Complementary' 'Groups'\n",
      " 'Undefined' 'Aviation']\n",
      "Column 'meal' has 5 unique values (<= 20): ['BB' 'FB' 'HB' 'SC' 'Undefined']\n",
      "Column 'reservation_status' has 3 unique values (<= 20): ['Check-Out' 'Canceled' 'No-Show']\n",
      "Column 'reserved_room_type' has 10 unique values (<= 20): ['C' 'A' 'D' 'E' 'G' 'F' 'H' 'L' 'P' 'B']\n"
     ]
    }
   ],
   "source": [
    "def unique_categorical_below_threshold(df, N):\n",
    "    # Select categorical columns (object and category data types)\n",
    "    categorical_cols = df.select_dtypes(include=['object', 'category'])\n",
    "\n",
    "    # Calculate the number of unique values in each categorical column\n",
    "    unique_counts = categorical_cols.nunique()\n",
    "\n",
    "    # Filter columns where the number of unique values is less than or equal to N\n",
    "    below_threshold = unique_counts[unique_counts <= N]\n",
    "\n",
    "    if below_threshold.empty:\n",
    "        print(f\"No categorical columns with {N} or fewer unique values.\")\n",
    "    else:\n",
    "        # Print the unique values for each categorical column below the threshold\n",
    "        for col in sorted(below_threshold.index):\n",
    "            unique_vals = df[col].unique()\n",
    "            print(f\"Column '{col}' has {len(unique_vals)} unique values (<= {N}): {unique_vals}\")\n",
    "unique_categorical_below_threshold(df, N=20)"
   ]
  },
  {
   "cell_type": "markdown",
   "id": "baa5c60c",
   "metadata": {},
   "source": [
    "## Display Unique Values for Numerical Variables\n",
    "My thought is there are some dichotomous values, [0,1] that are set as type int64."
   ]
  },
  {
   "cell_type": "code",
   "execution_count": 9,
   "id": "44a3650f",
   "metadata": {},
   "outputs": [
    {
     "name": "stdout",
     "output_type": "stream",
     "text": [
      "Column 'adr' has 8879 unique values.\n",
      "Column 'adults' has 14 unique values.\n",
      "Column 'agent' has 333 unique values.\n",
      "Column 'arrival_date_day_of_month' has 31 unique values.\n",
      "Column 'arrival_date_week_number' has 53 unique values.\n",
      "Column 'arrival_date_year' has 3 unique values.\n",
      "Column 'babies' has 5 unique values.\n",
      "Column 'booking_changes' has 21 unique values.\n",
      "Column 'children' has 5 unique values.\n",
      "Column 'company' has 352 unique values.\n",
      "Column 'days_in_waiting_list' has 128 unique values.\n",
      "Column 'is_canceled' has 2 unique values.\n",
      "Column 'is_repeated_guest' has 2 unique values.\n",
      "Column 'lead_time' has 479 unique values.\n",
      "Column 'previous_bookings_not_canceled' has 73 unique values.\n",
      "Column 'previous_cancellations' has 15 unique values.\n",
      "Column 'required_car_parking_spaces' has 5 unique values.\n",
      "Column 'stays_in_week_nights' has 35 unique values.\n",
      "Column 'stays_in_weekend_nights' has 17 unique values.\n",
      "Column 'total_of_special_requests' has 6 unique values.\n"
     ]
    }
   ],
   "source": [
    "# Function to check unique values in categorical columns\n",
    "def unique_values_in_numerical_columns(df):\n",
    "    # Select numerical columns (int and float data types)\n",
    "    numerical_cols = df.select_dtypes(include=['number'])\n",
    "\n",
    "    # Calculate the number of unique values in each numerical column\n",
    "    unique_counts = numerical_cols.nunique()\n",
    "    \n",
    "    if unique_counts.empty:\n",
    "        print(\"No categorical columns in the DataFrame.\")\n",
    "    else:\n",
    "        unique_counts = unique_counts.loc[sorted(unique_counts.index)]\n",
    "        # Print the number of unique values for each numerical column\n",
    "        for col, count in unique_counts.items():\n",
    "            print(f\"Column '{col}' has {count} unique values.\")\n",
    "\n",
    "unique_values_in_numerical_columns(df)"
   ]
  },
  {
   "cell_type": "code",
   "execution_count": 10,
   "id": "6e82810c",
   "metadata": {},
   "outputs": [
    {
     "name": "stdout",
     "output_type": "stream",
     "text": [
      "Column 'arrival_date_year' has 3 unique values (< 10): [2015 2016 2017]\n",
      "Column 'babies' has 5 unique values (< 10): [ 0  1  2 10  9]\n",
      "Column 'children' has 6 unique values (< 10): [ 0.  1.  2. 10.  3. nan]\n",
      "Column 'is_canceled' has 2 unique values (< 10): [0 1]\n",
      "Column 'is_repeated_guest' has 2 unique values (< 10): [0 1]\n",
      "Column 'required_car_parking_spaces' has 5 unique values (< 10): [0 1 2 8 3]\n",
      "Column 'total_of_special_requests' has 6 unique values (< 10): [0 1 3 2 4 5]\n"
     ]
    }
   ],
   "source": [
    "def numerical_columns_below_threshold(df, N):\n",
    "    # Select numerical columns (int and float data types)\n",
    "    numerical_cols = df.select_dtypes(include=['number'])\n",
    "\n",
    "    # Calculate the number of unique values in each numerical column\n",
    "    unique_counts = numerical_cols.nunique()\n",
    "\n",
    "    # Filter columns where the number of unique values is less than the threshold N\n",
    "    below_threshold = unique_counts[unique_counts < N]\n",
    "\n",
    "    if below_threshold.empty:\n",
    "        print(f\"No numerical columns with fewer than {N} unique values.\")\n",
    "    else:\n",
    "        # Print the number of unique values for each numerical column below the threshold\n",
    "        below_threshold = below_threshold.loc[sorted(below_threshold.index)]\n",
    "        for col in below_threshold.index:\n",
    "            unique_vals = df[col].unique()\n",
    "            print(f\"Column '{col}' has {len(unique_vals)} unique values (< {N}): {unique_vals}\")\n",
    "# Run the function\n",
    "numerical_columns_below_threshold(df, N=10)"
   ]
  },
  {
   "cell_type": "code",
   "execution_count": 11,
   "id": "5619acbd",
   "metadata": {},
   "outputs": [
    {
     "name": "stdout",
     "output_type": "stream",
     "text": [
      "\n",
      "Column 'arrival_date_year'\n",
      "====================\n",
      "arrival_date_year   2015   2016   2017\n",
      "is_canceled                           \n",
      "0                  13854  36370  24942\n",
      "1                   8142  20337  15745\n",
      "\n",
      "Column 'babies'\n",
      "====================\n",
      "babies          0    1   2   9   10\n",
      "is_canceled                        \n",
      "0            74416  735  13   1   1\n",
      "1            44057  165   2   0   0\n",
      "\n",
      "Column 'children'\n",
      "====================\n",
      "children      0.0   1.0   2.0   3.0   10.0\n",
      "is_canceled                               \n",
      "0            69702  3294  2111    59     0\n",
      "1            41094  1567  1541    17     1\n",
      "\n",
      "Column 'is_canceled'\n",
      "====================\n",
      "is_canceled      0      1\n",
      "is_canceled              \n",
      "0            75166      0\n",
      "1                0  44224\n",
      "\n",
      "Column 'is_repeated_guest'\n",
      "====================\n",
      "is_repeated_guest      0     1\n",
      "is_canceled                   \n",
      "0                  71908  3258\n",
      "1                  43672   552\n",
      "\n",
      "Column 'required_car_parking_spaces'\n",
      "====================\n",
      "required_car_parking_spaces      0     1   2  3  8\n",
      "is_canceled                                       \n",
      "0                            67750  7383  28  3  2\n",
      "1                            44224     0   0  0  0\n",
      "\n",
      "Column 'total_of_special_requests'\n",
      "====================\n",
      "total_of_special_requests      0      1      2     3    4   5\n",
      "is_canceled                                                  \n",
      "0                          36762  25908  10103  2051  304  38\n",
      "1                          33556   7318   2866   446   36   2\n"
     ]
    }
   ],
   "source": [
    "def numerical_columns_below_threshold_crosstabs(df, dv=\"is_canceled\", N=\"10\"):\n",
    "    \"\"\"dv: dependent variable\"\"\"\n",
    "    # Select numerical columns (int and float data types)\n",
    "    numerical_cols = df.select_dtypes(include=['number'])\n",
    "\n",
    "    # Calculate the number of unique values in each numerical column\n",
    "    unique_counts = numerical_cols.nunique()\n",
    "\n",
    "    # Filter columns where the number of unique values is less than the threshold N\n",
    "    below_threshold = unique_counts[unique_counts < N]\n",
    "\n",
    "    if below_threshold.empty:\n",
    "        print(f\"No numerical columns with fewer than {N} unique values.\")\n",
    "    else:\n",
    "        # Print the number of unique values for each numerical column below the threshold\n",
    "        below_threshold = below_threshold.loc[sorted(below_threshold.index)]\n",
    "        for col in below_threshold.index:\n",
    "            tbl = pd.crosstab(df[\"is_canceled\"], df[col], dropna=False)\n",
    "            print(f\"\\nColumn '{col}'\\n{'='*20}\\n{tbl}\")\n",
    "            \n",
    "# Run the function\n",
    "numerical_columns_below_threshold_crosstabs(df, dv=\"is_canceled\", N=10)"
   ]
  },
  {
   "cell_type": "code",
   "execution_count": 12,
   "id": "240cefa2",
   "metadata": {},
   "outputs": [],
   "source": [
    "# Function to check unique values in categorical columns\n",
    "def get_dist_plots_for_numerical_columns(df):\n",
    "    # Select numerical columns (int and float data types)\n",
    "    numerical_cols = df.select_dtypes(include=['number'])\n",
    "    for num_col in numerical_cols:\n",
    "        fig = px.histogram(df, x=num_col, color=\"is_canceled\", marginal=\"rug\")\n",
    "        fig.write_image(f\"figs/dist_plots/{num_col}.png\")\n",
    "\n",
    "get_dist_plots_for_numerical_columns(df)"
   ]
  },
  {
   "cell_type": "markdown",
   "id": "fda6c10c",
   "metadata": {},
   "source": [
    "# Determine Initial Interest Variables\n",
    "Goal: Create a model to predict whether a consumer will keep or cancel their resolution. \n",
    "    * Dependent Variable: \"is_canceled\" (need to convert to factor)\n",
    "    \n",
    "*Initial interest columns*\n",
    "* hotel                              object - yes\n",
    "* is_canceled                         int64 - yes, IV (convert to category)\n",
    "* lead_time                           int64 - yes\n",
    "* stays_in_weekend_nights             int64 - yes\n",
    "* stays_in_week_nights                int64 - yes\n",
    "* adults                              int64 - yes\n",
    "* children                          float64 - Yes (missing)\n",
    "* babies                              int64 - yes\n",
    "* meal                               object - yes\n",
    "* country                            object - yes (country)\n",
    "* market_segment                     object - yes\n",
    "* distribution_channel               object - yes\n",
    "* is_repeated_guest                   int64 - yes (convert to category)\n",
    "* previous_cancellations              int64 - yes\n",
    "* previous_bookings_not_canceled      int64 - yes\n",
    "* reserved_room_type                 object - yes\n",
    "* assigned_room_type                 object - no, not relevant for cancelling\n",
    "* booking_changes                     int64 - yes\n",
    "* deposit_type                       object - yes\n",
    "* agent                             float64 - no (missing)\n",
    "* company                           float64 - no (missing)\n",
    "* days_in_waiting_list                int64 - no\n",
    "* customer_type                      object - yes\n",
    "* adr                               float64 - yes (average daily rate)\n",
    "* required_car_parking_spaces         int64 - no (Number of car parking spaces required by the customer)\n",
    "* total_of_special_requests           int64 - yes (Number of special requests made by the customer ...)\n",
    "* reservation_status                 object - no\n",
    "* reservation_status_date            object - no\n",
    "\n",
    "\n",
    "\n"
   ]
  },
  {
   "cell_type": "markdown",
   "id": "ed2b4459",
   "metadata": {},
   "source": [
    "# 3 Process Data"
   ]
  },
  {
   "cell_type": "code",
   "execution_count": 13,
   "id": "ad29a1da",
   "metadata": {},
   "outputs": [],
   "source": [
    "df[\"is_repeated_guest\"] = df[\"is_repeated_guest\"].astype(str)"
   ]
  },
  {
   "cell_type": "code",
   "execution_count": 14,
   "id": "74413849",
   "metadata": {},
   "outputs": [],
   "source": [
    "class LogisticRegressionParams:\n",
    "    dv = \"is_canceled\"\n",
    "    ivs_num = [\"lead_time\", \n",
    "           \"stays_in_weekend_nights\",\n",
    "           \"stays_in_week_nights\",\n",
    "           \"adults\",\n",
    "           \"children\",\n",
    "           \"babies\",\n",
    "           \"previous_cancellations\",\n",
    "           \"previous_bookings_not_canceled\",\n",
    "           \"booking_changes\",\n",
    "           \"adr\", \n",
    "           \"total_of_special_requests\"\n",
    "          ]\n",
    "    ivs_cat = [\"hotel\", \n",
    "               \"meal\",\n",
    "               \"country\", \n",
    "               \"market_segment\",\n",
    "               \"distribution_channel\", \n",
    "               \"is_repeated_guest\",\n",
    "               \"reserved_room_type\",\n",
    "               \"deposit_type\",\n",
    "               \"customer_type\"\n",
    "              ]\n",
    "\n",
    "    convert_to_cat = [\n",
    "        \"is_repreated_guest\"\n",
    "    ]\n",
    "    def __init__(self):\n",
    "        pass\n",
    "    \n",
    "    def get_sm_formula(self):\n",
    "        formula = (self.dv + \" ~ \" \n",
    "           + \" + \".join(self.ivs_num) \n",
    "           + \" + \" + \" + \".join([f\"C({ii})\" for ii in self.ivs_cat])\n",
    "          )\n",
    "        return formula\n",
    "\n",
    "lrp = LogisticRegressionParams()\n",
    "formula = lrp.get_sm_formula()"
   ]
  },
  {
   "cell_type": "markdown",
   "id": "2b34254a",
   "metadata": {},
   "source": [
    "## Filter for fields that are of interest\n",
    "If I don't think it has practical importance in the initial model then I'm remove it from the data."
   ]
  },
  {
   "cell_type": "code",
   "execution_count": 15,
   "id": "7d50769a",
   "metadata": {},
   "outputs": [
    {
     "name": "stdout",
     "output_type": "stream",
     "text": [
      "Number of dropped columns:\t11\n",
      "Remaining columns:\t21\n"
     ]
    }
   ],
   "source": [
    "n_cols_before = df.copy().shape[1]\n",
    "df = df[[lrp.dv] + lrp.ivs_num + lrp.ivs_cat]\n",
    "n_cols_after = df.shape[1]\n",
    "print(f\"Number of dropped columns:\\t{n_cols_before - n_cols_after}\")\n",
    "print(f\"Remaining columns:\\t{n_cols_after}\")"
   ]
  },
  {
   "cell_type": "markdown",
   "id": "83cbb743",
   "metadata": {},
   "source": [
    "## Remove rows with missing values"
   ]
  },
  {
   "cell_type": "code",
   "execution_count": 16,
   "id": "96476fa9",
   "metadata": {},
   "outputs": [
    {
     "name": "stdout",
     "output_type": "stream",
     "text": [
      "Number of dropped rows:\t492\n"
     ]
    }
   ],
   "source": [
    "n_rows_before = df.copy().shape[0]\n",
    "df = df.dropna(subset=[lrp.dv] + lrp.ivs_num + lrp.ivs_cat)\n",
    "n_rows_after = df.shape[0]\n",
    "print(f\"Number of dropped rows:\\t{n_rows_before - n_rows_after}\")"
   ]
  },
  {
   "cell_type": "markdown",
   "id": "408d9f0f",
   "metadata": {},
   "source": [
    "## Remove outliers\n",
    "\n",
    "* adr, values below zero and extreme values"
   ]
  },
  {
   "cell_type": "code",
   "execution_count": 17,
   "id": "bda9af1f",
   "metadata": {},
   "outputs": [
    {
     "name": "stdout",
     "output_type": "stream",
     "text": [
      "48515     5400.0\n",
      "111403     510.0\n",
      "15083      508.0\n",
      "103912     451.5\n",
      "13142      450.0\n",
      "Name: adr, dtype: float64\n"
     ]
    }
   ],
   "source": [
    "print(df[\"adr\"].nlargest(5))"
   ]
  },
  {
   "cell_type": "code",
   "execution_count": 18,
   "id": "5e32c92b",
   "metadata": {},
   "outputs": [
    {
     "data": {
      "text/plain": [
       "14969   -6.38\n",
       "0        0.00\n",
       "1        0.00\n",
       "125      0.00\n",
       "167      0.00\n",
       "Name: adr, dtype: float64"
      ]
     },
     "execution_count": 18,
     "metadata": {},
     "output_type": "execute_result"
    }
   ],
   "source": [
    "df[\"adr\"].nsmallest(5)"
   ]
  },
  {
   "cell_type": "code",
   "execution_count": 19,
   "id": "94089b46",
   "metadata": {},
   "outputs": [
    {
     "name": "stdout",
     "output_type": "stream",
     "text": [
      "Number of dropped rows:\t2\n"
     ]
    }
   ],
   "source": [
    "n_rows_before = df.copy().shape[0]\n",
    "df = df.loc[(df[\"adr\"]>=0) & (df[\"adr\"] <=5000)]\n",
    "n_rows_after = df.shape[0]\n",
    "print(f\"Number of dropped rows:\\t{n_rows_before - n_rows_after}\")"
   ]
  },
  {
   "cell_type": "markdown",
   "id": "882e8d0b",
   "metadata": {},
   "source": [
    "## Check Categorical Observation Sizes\n",
    "1. Check for variable levels with zero observations\n",
    "2. Check for varibale levels with <30 observations. 30 is arbitrary"
   ]
  },
  {
   "cell_type": "code",
   "execution_count": 20,
   "id": "8c725b46",
   "metadata": {},
   "outputs": [
    {
     "name": "stdout",
     "output_type": "stream",
     "text": [
      "Flagged Variables:\n",
      "\n",
      "country:\n",
      "====================\n",
      "  Nunique Response Options: 177\n",
      "  Zero Response Options: 62, (35.0%)\n",
      "  Observed Values Below 30: 261, (73.7%)\n",
      "\n",
      "distribution_channel:\n",
      "====================\n",
      "  Nunique Response Options: 5\n",
      "  Zero Response Options: 1, (20.0%)\n",
      "  Observed Values Below 30: 2, (20.0%)\n",
      "\n",
      "reserved_room_type:\n",
      "====================\n",
      "  Nunique Response Options: 10\n",
      "  Zero Response Options: 1, (10.0%)\n",
      "  Observed Values Below 30: 4, (20.0%)\n"
     ]
    }
   ],
   "source": [
    "def flag_categorical_vars(df, dependent_var):\n",
    "    categorical_vars = df.select_dtypes(include=['object', 'category']).columns\n",
    "    flagged_vars = {}\n",
    "\n",
    "    for var in categorical_vars:\n",
    "        if var == dependent_var:\n",
    "            continue\n",
    "\n",
    "        # Create contingency table\n",
    "        contingency_table = pd.crosstab(df[var], df[dependent_var])\n",
    "\n",
    "        # Check for zero response options\n",
    "        zero_response_options = (contingency_table == 0).sum().sum()\n",
    "        \n",
    "        # Check for observed values below 30\n",
    "        observed_values_below_30 = (contingency_table < 30).sum().sum()\n",
    "        \n",
    "        if zero_response_options > 0 or observed_values_below_30 > 0:\n",
    "            flagged_vars[var] = {\n",
    "                'zero_response_options': zero_response_options,\n",
    "                'observed_values_below_30': observed_values_below_30\n",
    "            }\n",
    "    \n",
    "    return flagged_vars\n",
    "\n",
    "dependent_var = lrp.dv\n",
    "flagged_vars = flag_categorical_vars(df, dependent_var)\n",
    "\n",
    "print(\"Flagged Variables:\")\n",
    "for var, details in flagged_vars.items():\n",
    "    nuniq = df[var].nunique()\n",
    "    print(f\"\\n{var}:\")\n",
    "    print(\"=\"*20)\n",
    "    print(f\"  Nunique Response Options: {nuniq}\")\n",
    "    print(f\"  Zero Response Options: {details['zero_response_options']}, \"\n",
    "          f\"({(details['zero_response_options']/nuniq) *100:0.1f}%)\")\n",
    "    print(f\"  Observed Values Below 30: {details['observed_values_below_30']}, \"\n",
    "          f\"({(details['observed_values_below_30']/(nuniq*2)) *100:0.1f}%)\")"
   ]
  },
  {
   "cell_type": "markdown",
   "id": "7d307f01",
   "metadata": {},
   "source": [
    "Based on the number of observed values below 30 and empty reponse options I'm omitting the following variables.\n",
    "* country\n",
    "\n",
    "**distribution_channel**: \n",
    "Booking distribution channel. The term “TA” means “Travel Agents” and “TO” means “Tour Operators”\n",
    "\n",
    "Merge undefined & GDS into TA/TO.\n",
    "\n",
    "**reserved_room_type**:\n",
    "Code of room type reserved. Code is presented instead of designation for anonymity reasons.\n",
    "Could drop rows with value L&P since they don't have enough responses. I feel okay about removing 8 rows instead of merging them into a group I don't understand."
   ]
  },
  {
   "cell_type": "code",
   "execution_count": 21,
   "id": "65ef6b62",
   "metadata": {},
   "outputs": [
    {
     "data": {
      "text/html": [
       "<div>\n",
       "<style scoped>\n",
       "    .dataframe tbody tr th:only-of-type {\n",
       "        vertical-align: middle;\n",
       "    }\n",
       "\n",
       "    .dataframe tbody tr th {\n",
       "        vertical-align: top;\n",
       "    }\n",
       "\n",
       "    .dataframe thead th {\n",
       "        text-align: right;\n",
       "    }\n",
       "</style>\n",
       "<table border=\"1\" class=\"dataframe\">\n",
       "  <thead>\n",
       "    <tr style=\"text-align: right;\">\n",
       "      <th>is_canceled</th>\n",
       "      <th>0</th>\n",
       "      <th>1</th>\n",
       "    </tr>\n",
       "    <tr>\n",
       "      <th>distribution_channel</th>\n",
       "      <th></th>\n",
       "      <th></th>\n",
       "    </tr>\n",
       "  </thead>\n",
       "  <tbody>\n",
       "    <tr>\n",
       "      <th>Corporate</th>\n",
       "      <td>5037</td>\n",
       "      <td>1454</td>\n",
       "    </tr>\n",
       "    <tr>\n",
       "      <th>Direct</th>\n",
       "      <td>11939</td>\n",
       "      <td>2543</td>\n",
       "    </tr>\n",
       "    <tr>\n",
       "      <th>GDS</th>\n",
       "      <td>156</td>\n",
       "      <td>37</td>\n",
       "    </tr>\n",
       "    <tr>\n",
       "      <th>TA/TO</th>\n",
       "      <td>57611</td>\n",
       "      <td>40118</td>\n",
       "    </tr>\n",
       "    <tr>\n",
       "      <th>Undefined</th>\n",
       "      <td>1</td>\n",
       "      <td>0</td>\n",
       "    </tr>\n",
       "  </tbody>\n",
       "</table>\n",
       "</div>"
      ],
      "text/plain": [
       "is_canceled               0      1\n",
       "distribution_channel              \n",
       "Corporate              5037   1454\n",
       "Direct                11939   2543\n",
       "GDS                     156     37\n",
       "TA/TO                 57611  40118\n",
       "Undefined                 1      0"
      ]
     },
     "execution_count": 21,
     "metadata": {},
     "output_type": "execute_result"
    }
   ],
   "source": [
    "pd.crosstab(df[\"distribution_channel\"], df[lrp.dv])"
   ]
  },
  {
   "cell_type": "code",
   "execution_count": 22,
   "id": "2d8b2957",
   "metadata": {},
   "outputs": [
    {
     "data": {
      "text/html": [
       "<div>\n",
       "<style scoped>\n",
       "    .dataframe tbody tr th:only-of-type {\n",
       "        vertical-align: middle;\n",
       "    }\n",
       "\n",
       "    .dataframe tbody tr th {\n",
       "        vertical-align: top;\n",
       "    }\n",
       "\n",
       "    .dataframe thead th {\n",
       "        text-align: right;\n",
       "    }\n",
       "</style>\n",
       "<table border=\"1\" class=\"dataframe\">\n",
       "  <thead>\n",
       "    <tr style=\"text-align: right;\">\n",
       "      <th>is_canceled</th>\n",
       "      <th>0</th>\n",
       "      <th>1</th>\n",
       "    </tr>\n",
       "    <tr>\n",
       "      <th>reserved_room_type</th>\n",
       "      <th></th>\n",
       "      <th></th>\n",
       "    </tr>\n",
       "  </thead>\n",
       "  <tbody>\n",
       "    <tr>\n",
       "      <th>A</th>\n",
       "      <td>52021</td>\n",
       "      <td>33578</td>\n",
       "    </tr>\n",
       "    <tr>\n",
       "      <th>B</th>\n",
       "      <td>750</td>\n",
       "      <td>364</td>\n",
       "    </tr>\n",
       "    <tr>\n",
       "      <th>C</th>\n",
       "      <td>623</td>\n",
       "      <td>308</td>\n",
       "    </tr>\n",
       "    <tr>\n",
       "      <th>D</th>\n",
       "      <td>13072</td>\n",
       "      <td>6101</td>\n",
       "    </tr>\n",
       "    <tr>\n",
       "      <th>E</th>\n",
       "      <td>4588</td>\n",
       "      <td>1909</td>\n",
       "    </tr>\n",
       "    <tr>\n",
       "      <th>F</th>\n",
       "      <td>2010</td>\n",
       "      <td>880</td>\n",
       "    </tr>\n",
       "    <tr>\n",
       "      <th>G</th>\n",
       "      <td>1320</td>\n",
       "      <td>763</td>\n",
       "    </tr>\n",
       "    <tr>\n",
       "      <th>H</th>\n",
       "      <td>356</td>\n",
       "      <td>245</td>\n",
       "    </tr>\n",
       "    <tr>\n",
       "      <th>L</th>\n",
       "      <td>4</td>\n",
       "      <td>2</td>\n",
       "    </tr>\n",
       "    <tr>\n",
       "      <th>P</th>\n",
       "      <td>0</td>\n",
       "      <td>2</td>\n",
       "    </tr>\n",
       "  </tbody>\n",
       "</table>\n",
       "</div>"
      ],
      "text/plain": [
       "is_canceled             0      1\n",
       "reserved_room_type              \n",
       "A                   52021  33578\n",
       "B                     750    364\n",
       "C                     623    308\n",
       "D                   13072   6101\n",
       "E                    4588   1909\n",
       "F                    2010    880\n",
       "G                    1320    763\n",
       "H                     356    245\n",
       "L                       4      2\n",
       "P                       0      2"
      ]
     },
     "execution_count": 22,
     "metadata": {},
     "output_type": "execute_result"
    }
   ],
   "source": [
    "pd.crosstab(df[\"reserved_room_type\"], df[lrp.dv])"
   ]
  },
  {
   "cell_type": "code",
   "execution_count": 23,
   "id": "3f23a563",
   "metadata": {},
   "outputs": [
    {
     "name": "stdout",
     "output_type": "stream",
     "text": [
      "Rows dropped: 9\n"
     ]
    }
   ],
   "source": [
    "n_before = df.copy().shape[0]\n",
    "df = df.query('distribution_channel not in \"Undefined\" and '\n",
    "              'reserved_room_type not in [\"L\", \"P\"]')\n",
    "n_after = df.copy().shape[0]\n",
    "print(f\"Rows dropped: {n_before - n_after}\")"
   ]
  },
  {
   "cell_type": "markdown",
   "id": "8de294d0",
   "metadata": {},
   "source": [
    "### Remove Fields\n",
    "Remove county from our analysis object"
   ]
  },
  {
   "cell_type": "code",
   "execution_count": 24,
   "id": "09e0ae91",
   "metadata": {},
   "outputs": [],
   "source": [
    "lrp.ivs_cat.remove(\"country\")\n",
    "df = df.drop(columns=\"country\")"
   ]
  },
  {
   "cell_type": "code",
   "execution_count": 25,
   "id": "eee586fc",
   "metadata": {
    "scrolled": true
   },
   "outputs": [
    {
     "name": "stdout",
     "output_type": "stream",
     "text": [
      "{'customer_type': ['customer_type_Group',\n",
      "                   'customer_type_Transient',\n",
      "                   'customer_type_Transient-Party'],\n",
      " 'deposit_type': ['deposit_type_Non Refund', 'deposit_type_Refundable'],\n",
      " 'distribution_channel': ['distribution_channel_Direct',\n",
      "                          'distribution_channel_GDS',\n",
      "                          'distribution_channel_TA/TO'],\n",
      " 'hotel': ['hotel_Resort Hotel'],\n",
      " 'is_repeated_guest': ['is_repeated_guest_1'],\n",
      " 'market_segment': ['market_segment_Complementary',\n",
      "                    'market_segment_Corporate',\n",
      "                    'market_segment_Direct',\n",
      "                    'market_segment_Groups',\n",
      "                    'market_segment_Offline TA/TO',\n",
      "                    'market_segment_Online TA'],\n",
      " 'meal': ['meal_FB', 'meal_HB', 'meal_SC', 'meal_Undefined'],\n",
      " 'reserved_room_type': ['reserved_room_type_B',\n",
      "                        'reserved_room_type_C',\n",
      "                        'reserved_room_type_D',\n",
      "                        'reserved_room_type_E',\n",
      "                        'reserved_room_type_F',\n",
      "                        'reserved_room_type_G',\n",
      "                        'reserved_room_type_H']}\n"
     ]
    }
   ],
   "source": [
    "cat_levels = {}\n",
    "for iv_cat in lrp.ivs_cat:\n",
    "    uniq_vals = sorted(df[iv_cat].unique())\n",
    "    cat_levels[iv_cat] = [iv_cat + \"_\" + xx for xx in uniq_vals[1:]]\n",
    "pprint.pprint(cat_levels)"
   ]
  },
  {
   "cell_type": "markdown",
   "id": "50cb81c9",
   "metadata": {},
   "source": [
    "# 4. Check VIF\n",
    "Remove covariates with VIF > 10. Literature uses 10, 5, 2.5 as the VIF threshold."
   ]
  },
  {
   "cell_type": "code",
   "execution_count": 26,
   "id": "6f5d05ee",
   "metadata": {},
   "outputs": [],
   "source": [
    "def extract_categorical_model(val):\n",
    "    \"\"\"Extracts market_segment from C(market_segment)[T.Complementary]\"\"\"\n",
    "    if val.startswith(\"C(\"):\n",
    "        val = re.search('^C\\((.*)\\).*', val).group(1)\n",
    "    else:\n",
    "        pass\n",
    "    return val\n",
    "# print(extract_categorical_model('C(meal)[T.SC]'))\n",
    "# print(extract_categorical_model('stays_in_weekend_nights'))\n",
    "\n",
    "def vif_from_R(model):\n",
    "    \"\"\"\n",
    "    model: glm statsmodel\n",
    "    \"\"\"\n",
    "    full_terms = model.model.data.design_info.column_names\n",
    "    v = model.cov_params()\n",
    "\n",
    "    # drop Intercept term\n",
    "    if full_terms[0] == \"Intercept\":\n",
    "        full_terms = full_terms[1:]\n",
    "        v = v.iloc[1:, 1:]\n",
    "\n",
    "    # C(meal)[T.FB], C(meal)[T.HB] becomes \"meal\"\n",
    "    full_terms = [extract_categorical_model(ii) for ii in full_terms]\n",
    "    # Using list comprehension to filter unique values while preserving order\n",
    "    terms = []\n",
    "    [terms.append(ii) for ii in full_terms if ii not in terms]\n",
    "    n_terms = len(terms)\n",
    "\n",
    "    R = sm.stats.moment_helpers.cov2corr(v)\n",
    "    # Convert for easier filtering\n",
    "    R = pd.DataFrame(R)\n",
    "    R.index = full_terms\n",
    "    R.columns = full_terms\n",
    "\n",
    "    detR = np.linalg.det(R)\n",
    "    result = pd.DataFrame(np.zeros((n_terms, 3)))\n",
    "    result.index = terms\n",
    "    result.columns = [\"GVIF\", \"Df\", \"GVIF^(1/(2*Df))\"]\n",
    "    for term in terms:\n",
    "        result.loc[term, \"GVIF\"] = np.linalg.det(R.loc[[term], [term]]) * np.linalg.det(R.loc[R.index!=term, R.columns!=term])/detR\n",
    "        result.loc[term, \"Df\"] = len([ii for ii in full_terms if ii == term])\n",
    "\n",
    "    result.loc[:, \"GVIF^(1/(2*Df))\"] = result.loc[:,\"GVIF\"]**(1/(2 * result.loc[:,\"Df\"]))\n",
    "    return result"
   ]
  },
  {
   "cell_type": "markdown",
   "id": "6657cf79",
   "metadata": {},
   "source": [
    "### Check VIF with Python Libraries"
   ]
  },
  {
   "cell_type": "code",
   "execution_count": 27,
   "id": "ffc1fbc1",
   "metadata": {},
   "outputs": [
    {
     "name": "stdout",
     "output_type": "stream",
     "text": [
      "Optimization terminated successfully.\n",
      "         Current function value: 0.448171\n",
      "         Iterations 9\n",
      "                                feature         VIF\n",
      "0                             Intercept  550.359159\n",
      "1              C(hotel)[T.Resort Hotel]    1.527325\n",
      "2                         C(meal)[T.FB]    1.066968\n",
      "3                         C(meal)[T.HB]    1.218659\n",
      "4                         C(meal)[T.SC]    1.252856\n",
      "5                  C(meal)[T.Undefined]    1.083971\n",
      "6    C(market_segment)[T.Complementary]    4.569303\n",
      "7        C(market_segment)[T.Corporate]   21.863427\n",
      "8           C(market_segment)[T.Direct]   57.176447\n",
      "9           C(market_segment)[T.Groups]   79.387985\n",
      "10   C(market_segment)[T.Offline TA/TO]   92.525448\n",
      "11       C(market_segment)[T.Online TA]  142.159601\n",
      "12    C(distribution_channel)[T.Direct]   10.712941\n",
      "13       C(distribution_channel)[T.GDS]    1.110227\n",
      "14     C(distribution_channel)[T.TA/TO]    9.264862\n",
      "15            C(is_repeated_guest)[T.1]    1.363222\n",
      "16           C(reserved_room_type)[T.B]    1.058062\n",
      "17           C(reserved_room_type)[T.C]    1.190064\n",
      "18           C(reserved_room_type)[T.D]    1.258679\n",
      "19           C(reserved_room_type)[T.E]    1.177425\n",
      "20           C(reserved_room_type)[T.F]    1.348199\n",
      "21           C(reserved_room_type)[T.G]    1.413828\n",
      "22           C(reserved_room_type)[T.H]    1.117139\n",
      "23        C(deposit_type)[T.Non Refund]    2.118803\n",
      "24        C(deposit_type)[T.Refundable]    1.031796\n",
      "25            C(customer_type)[T.Group]    1.162072\n",
      "26        C(customer_type)[T.Transient]    6.102871\n",
      "27  C(customer_type)[T.Transient-Party]    6.194821\n",
      "28                            lead_time    1.441052\n",
      "29              stays_in_weekend_nights    1.371234\n",
      "30                 stays_in_week_nights    1.464563\n",
      "31                               adults    1.208720\n",
      "32                             children    1.800504\n",
      "33                               babies    1.024856\n",
      "34               previous_cancellations    1.081953\n",
      "35       previous_bookings_not_canceled    1.293999\n",
      "36                      booking_changes    1.067345\n",
      "37                                  adr    1.703980\n",
      "38            total_of_special_requests    1.289870\n"
     ]
    }
   ],
   "source": [
    "#### Independent variables (without the target variable 'buy')\n",
    "X = df[lrp.ivs_cat + lrp.ivs_num]\n",
    "\n",
    "# Fit logistic regression model using formula\n",
    "formula = lrp.get_sm_formula()\n",
    "model = smf.logit(formula, data=df).fit()\n",
    "\n",
    "# Check for VIF\n",
    "# Get the design matrix\n",
    "X = model.model.exog\n",
    "\n",
    "# Calculate VIF\n",
    "vif_data = pd.DataFrame()\n",
    "vif_data[\"feature\"] = model.model.exog_names\n",
    "vif_data[\"VIF\"] = [variance_inflation_factor(X, i) for i in range(X.shape[1])]\n",
    "\n",
    "print(vif_data)"
   ]
  },
  {
   "cell_type": "markdown",
   "id": "c5f32ad6",
   "metadata": {},
   "source": [
    "### Check VIF with R libaries\n",
    "R allows for grouped VIF with categorical variables"
   ]
  },
  {
   "cell_type": "code",
   "execution_count": 28,
   "id": "05f4825e",
   "metadata": {},
   "outputs": [
    {
     "data": {
      "text/html": [
       "<div>\n",
       "<style scoped>\n",
       "    .dataframe tbody tr th:only-of-type {\n",
       "        vertical-align: middle;\n",
       "    }\n",
       "\n",
       "    .dataframe tbody tr th {\n",
       "        vertical-align: top;\n",
       "    }\n",
       "\n",
       "    .dataframe thead th {\n",
       "        text-align: right;\n",
       "    }\n",
       "</style>\n",
       "<table border=\"1\" class=\"dataframe\">\n",
       "  <thead>\n",
       "    <tr style=\"text-align: right;\">\n",
       "      <th></th>\n",
       "      <th>GVIF</th>\n",
       "      <th>Df</th>\n",
       "      <th>GVIF^(1/(2*Df))</th>\n",
       "    </tr>\n",
       "  </thead>\n",
       "  <tbody>\n",
       "    <tr>\n",
       "      <th>hotel</th>\n",
       "      <td>1.473928</td>\n",
       "      <td>1.0</td>\n",
       "      <td>1.214054</td>\n",
       "    </tr>\n",
       "    <tr>\n",
       "      <th>meal</th>\n",
       "      <td>1.665499</td>\n",
       "      <td>4.0</td>\n",
       "      <td>1.065842</td>\n",
       "    </tr>\n",
       "    <tr>\n",
       "      <th>market_segment</th>\n",
       "      <td>67.661734</td>\n",
       "      <td>6.0</td>\n",
       "      <td>1.420786</td>\n",
       "    </tr>\n",
       "    <tr>\n",
       "      <th>distribution_channel</th>\n",
       "      <td>24.334875</td>\n",
       "      <td>3.0</td>\n",
       "      <td>1.702308</td>\n",
       "    </tr>\n",
       "    <tr>\n",
       "      <th>is_repeated_guest</th>\n",
       "      <td>1.319138</td>\n",
       "      <td>1.0</td>\n",
       "      <td>1.148537</td>\n",
       "    </tr>\n",
       "    <tr>\n",
       "      <th>reserved_room_type</th>\n",
       "      <td>3.268948</td>\n",
       "      <td>7.0</td>\n",
       "      <td>1.088287</td>\n",
       "    </tr>\n",
       "    <tr>\n",
       "      <th>deposit_type</th>\n",
       "      <td>1.085992</td>\n",
       "      <td>2.0</td>\n",
       "      <td>1.020838</td>\n",
       "    </tr>\n",
       "    <tr>\n",
       "      <th>customer_type</th>\n",
       "      <td>2.238043</td>\n",
       "      <td>3.0</td>\n",
       "      <td>1.143698</td>\n",
       "    </tr>\n",
       "    <tr>\n",
       "      <th>lead_time</th>\n",
       "      <td>1.292819</td>\n",
       "      <td>1.0</td>\n",
       "      <td>1.137022</td>\n",
       "    </tr>\n",
       "    <tr>\n",
       "      <th>stays_in_weekend_nights</th>\n",
       "      <td>1.386280</td>\n",
       "      <td>1.0</td>\n",
       "      <td>1.177404</td>\n",
       "    </tr>\n",
       "    <tr>\n",
       "      <th>stays_in_week_nights</th>\n",
       "      <td>1.498569</td>\n",
       "      <td>1.0</td>\n",
       "      <td>1.224161</td>\n",
       "    </tr>\n",
       "    <tr>\n",
       "      <th>adults</th>\n",
       "      <td>1.222351</td>\n",
       "      <td>1.0</td>\n",
       "      <td>1.105600</td>\n",
       "    </tr>\n",
       "    <tr>\n",
       "      <th>children</th>\n",
       "      <td>2.045633</td>\n",
       "      <td>1.0</td>\n",
       "      <td>1.430256</td>\n",
       "    </tr>\n",
       "    <tr>\n",
       "      <th>babies</th>\n",
       "      <td>1.018728</td>\n",
       "      <td>1.0</td>\n",
       "      <td>1.009321</td>\n",
       "    </tr>\n",
       "    <tr>\n",
       "      <th>previous_cancellations</th>\n",
       "      <td>1.569867</td>\n",
       "      <td>1.0</td>\n",
       "      <td>1.252943</td>\n",
       "    </tr>\n",
       "    <tr>\n",
       "      <th>previous_bookings_not_canceled</th>\n",
       "      <td>1.636576</td>\n",
       "      <td>1.0</td>\n",
       "      <td>1.279287</td>\n",
       "    </tr>\n",
       "    <tr>\n",
       "      <th>booking_changes</th>\n",
       "      <td>1.051686</td>\n",
       "      <td>1.0</td>\n",
       "      <td>1.025518</td>\n",
       "    </tr>\n",
       "    <tr>\n",
       "      <th>adr</th>\n",
       "      <td>1.724286</td>\n",
       "      <td>1.0</td>\n",
       "      <td>1.313121</td>\n",
       "    </tr>\n",
       "    <tr>\n",
       "      <th>total_of_special_requests</th>\n",
       "      <td>1.200695</td>\n",
       "      <td>1.0</td>\n",
       "      <td>1.095762</td>\n",
       "    </tr>\n",
       "  </tbody>\n",
       "</table>\n",
       "</div>"
      ],
      "text/plain": [
       "                                     GVIF   Df  GVIF^(1/(2*Df))\n",
       "hotel                            1.473928  1.0         1.214054\n",
       "meal                             1.665499  4.0         1.065842\n",
       "market_segment                  67.661734  6.0         1.420786\n",
       "distribution_channel            24.334875  3.0         1.702308\n",
       "is_repeated_guest                1.319138  1.0         1.148537\n",
       "reserved_room_type               3.268948  7.0         1.088287\n",
       "deposit_type                     1.085992  2.0         1.020838\n",
       "customer_type                    2.238043  3.0         1.143698\n",
       "lead_time                        1.292819  1.0         1.137022\n",
       "stays_in_weekend_nights          1.386280  1.0         1.177404\n",
       "stays_in_week_nights             1.498569  1.0         1.224161\n",
       "adults                           1.222351  1.0         1.105600\n",
       "children                         2.045633  1.0         1.430256\n",
       "babies                           1.018728  1.0         1.009321\n",
       "previous_cancellations           1.569867  1.0         1.252943\n",
       "previous_bookings_not_canceled   1.636576  1.0         1.279287\n",
       "booking_changes                  1.051686  1.0         1.025518\n",
       "adr                              1.724286  1.0         1.313121\n",
       "total_of_special_requests        1.200695  1.0         1.095762"
      ]
     },
     "execution_count": 28,
     "metadata": {},
     "output_type": "execute_result"
    }
   ],
   "source": [
    "vif_from_R(model=model)"
   ]
  },
  {
   "cell_type": "code",
   "execution_count": 29,
   "id": "47700572",
   "metadata": {},
   "outputs": [
    {
     "name": "stdout",
     "output_type": "stream",
     "text": [
      "Optimization terminated successfully.\n",
      "         Current function value: 0.459878\n",
      "         Iterations 9\n"
     ]
    },
    {
     "data": {
      "text/html": [
       "<div>\n",
       "<style scoped>\n",
       "    .dataframe tbody tr th:only-of-type {\n",
       "        vertical-align: middle;\n",
       "    }\n",
       "\n",
       "    .dataframe tbody tr th {\n",
       "        vertical-align: top;\n",
       "    }\n",
       "\n",
       "    .dataframe thead th {\n",
       "        text-align: right;\n",
       "    }\n",
       "</style>\n",
       "<table border=\"1\" class=\"dataframe\">\n",
       "  <thead>\n",
       "    <tr style=\"text-align: right;\">\n",
       "      <th></th>\n",
       "      <th>GVIF</th>\n",
       "      <th>Df</th>\n",
       "      <th>GVIF^(1/(2*Df))</th>\n",
       "    </tr>\n",
       "  </thead>\n",
       "  <tbody>\n",
       "    <tr>\n",
       "      <th>hotel</th>\n",
       "      <td>1.452580</td>\n",
       "      <td>1.0</td>\n",
       "      <td>1.205230</td>\n",
       "    </tr>\n",
       "    <tr>\n",
       "      <th>meal</th>\n",
       "      <td>1.503974</td>\n",
       "      <td>4.0</td>\n",
       "      <td>1.052337</td>\n",
       "    </tr>\n",
       "    <tr>\n",
       "      <th>distribution_channel</th>\n",
       "      <td>1.223919</td>\n",
       "      <td>3.0</td>\n",
       "      <td>1.034250</td>\n",
       "    </tr>\n",
       "    <tr>\n",
       "      <th>is_repeated_guest</th>\n",
       "      <td>1.312567</td>\n",
       "      <td>1.0</td>\n",
       "      <td>1.145673</td>\n",
       "    </tr>\n",
       "    <tr>\n",
       "      <th>reserved_room_type</th>\n",
       "      <td>3.171434</td>\n",
       "      <td>7.0</td>\n",
       "      <td>1.085935</td>\n",
       "    </tr>\n",
       "    <tr>\n",
       "      <th>deposit_type</th>\n",
       "      <td>1.023260</td>\n",
       "      <td>2.0</td>\n",
       "      <td>1.005765</td>\n",
       "    </tr>\n",
       "    <tr>\n",
       "      <th>customer_type</th>\n",
       "      <td>1.511278</td>\n",
       "      <td>3.0</td>\n",
       "      <td>1.071250</td>\n",
       "    </tr>\n",
       "    <tr>\n",
       "      <th>lead_time</th>\n",
       "      <td>1.263776</td>\n",
       "      <td>1.0</td>\n",
       "      <td>1.124178</td>\n",
       "    </tr>\n",
       "    <tr>\n",
       "      <th>stays_in_weekend_nights</th>\n",
       "      <td>1.397292</td>\n",
       "      <td>1.0</td>\n",
       "      <td>1.182071</td>\n",
       "    </tr>\n",
       "    <tr>\n",
       "      <th>stays_in_week_nights</th>\n",
       "      <td>1.512113</td>\n",
       "      <td>1.0</td>\n",
       "      <td>1.229680</td>\n",
       "    </tr>\n",
       "    <tr>\n",
       "      <th>adults</th>\n",
       "      <td>1.208626</td>\n",
       "      <td>1.0</td>\n",
       "      <td>1.099375</td>\n",
       "    </tr>\n",
       "    <tr>\n",
       "      <th>children</th>\n",
       "      <td>2.021311</td>\n",
       "      <td>1.0</td>\n",
       "      <td>1.421728</td>\n",
       "    </tr>\n",
       "    <tr>\n",
       "      <th>babies</th>\n",
       "      <td>1.018016</td>\n",
       "      <td>1.0</td>\n",
       "      <td>1.008968</td>\n",
       "    </tr>\n",
       "    <tr>\n",
       "      <th>previous_cancellations</th>\n",
       "      <td>1.566600</td>\n",
       "      <td>1.0</td>\n",
       "      <td>1.251639</td>\n",
       "    </tr>\n",
       "    <tr>\n",
       "      <th>previous_bookings_not_canceled</th>\n",
       "      <td>1.579370</td>\n",
       "      <td>1.0</td>\n",
       "      <td>1.256730</td>\n",
       "    </tr>\n",
       "    <tr>\n",
       "      <th>booking_changes</th>\n",
       "      <td>1.045569</td>\n",
       "      <td>1.0</td>\n",
       "      <td>1.022531</td>\n",
       "    </tr>\n",
       "    <tr>\n",
       "      <th>adr</th>\n",
       "      <td>1.604524</td>\n",
       "      <td>1.0</td>\n",
       "      <td>1.266698</td>\n",
       "    </tr>\n",
       "    <tr>\n",
       "      <th>total_of_special_requests</th>\n",
       "      <td>1.119371</td>\n",
       "      <td>1.0</td>\n",
       "      <td>1.058003</td>\n",
       "    </tr>\n",
       "  </tbody>\n",
       "</table>\n",
       "</div>"
      ],
      "text/plain": [
       "                                    GVIF   Df  GVIF^(1/(2*Df))\n",
       "hotel                           1.452580  1.0         1.205230\n",
       "meal                            1.503974  4.0         1.052337\n",
       "distribution_channel            1.223919  3.0         1.034250\n",
       "is_repeated_guest               1.312567  1.0         1.145673\n",
       "reserved_room_type              3.171434  7.0         1.085935\n",
       "deposit_type                    1.023260  2.0         1.005765\n",
       "customer_type                   1.511278  3.0         1.071250\n",
       "lead_time                       1.263776  1.0         1.124178\n",
       "stays_in_weekend_nights         1.397292  1.0         1.182071\n",
       "stays_in_week_nights            1.512113  1.0         1.229680\n",
       "adults                          1.208626  1.0         1.099375\n",
       "children                        2.021311  1.0         1.421728\n",
       "babies                          1.018016  1.0         1.008968\n",
       "previous_cancellations          1.566600  1.0         1.251639\n",
       "previous_bookings_not_canceled  1.579370  1.0         1.256730\n",
       "booking_changes                 1.045569  1.0         1.022531\n",
       "adr                             1.604524  1.0         1.266698\n",
       "total_of_special_requests       1.119371  1.0         1.058003"
      ]
     },
     "execution_count": 29,
     "metadata": {},
     "output_type": "execute_result"
    }
   ],
   "source": [
    "lrp.ivs_cat.remove(\"market_segment\")\n",
    "formula = lrp.get_sm_formula()\n",
    "# Fit logistic regression model using formula\n",
    "model = smf.logit(formula, data=df).fit()\n",
    "vif_from_R(model=model)"
   ]
  },
  {
   "cell_type": "markdown",
   "id": "36ca3fa8",
   "metadata": {},
   "source": [
    "# 5. Full Model"
   ]
  },
  {
   "cell_type": "code",
   "execution_count": 30,
   "id": "6214df57",
   "metadata": {},
   "outputs": [
    {
     "name": "stdout",
     "output_type": "stream",
     "text": [
      "Optimization terminated successfully.\n",
      "         Current function value: 0.459878\n",
      "         Iterations 9\n",
      "                           Logit Regression Results                           \n",
      "==============================================================================\n",
      "Dep. Variable:            is_canceled   No. Observations:               118887\n",
      "Model:                          Logit   Df Residuals:                   118854\n",
      "Method:                           MLE   Df Model:                           32\n",
      "Date:                Mon, 14 Oct 2024   Pseudo R-squ.:                  0.3029\n",
      "Time:                        21:20:16   Log-Likelihood:                -54673.\n",
      "converged:                       True   LL-Null:                       -78426.\n",
      "Covariance Type:            nonrobust   LLR p-value:                     0.000\n",
      "=======================================================================================================\n",
      "                                          coef    std err          z      P>|z|      [0.025      0.975]\n",
      "-------------------------------------------------------------------------------------------------------\n",
      "Intercept                              -3.1034      0.071    -43.715      0.000      -3.243      -2.964\n",
      "C(hotel)[T.Resort Hotel]               -0.0592      0.019     -3.105      0.002      -0.097      -0.022\n",
      "C(meal)[T.FB]                           0.3565      0.104      3.438      0.001       0.153       0.560\n",
      "C(meal)[T.HB]                          -0.3594      0.025    -14.163      0.000      -0.409      -0.310\n",
      "C(meal)[T.SC]                           0.4007      0.025     16.085      0.000       0.352       0.450\n",
      "C(meal)[T.Undefined]                   -0.6561      0.098     -6.697      0.000      -0.848      -0.464\n",
      "C(distribution_channel)[T.Direct]      -0.6128      0.048    -12.889      0.000      -0.706      -0.520\n",
      "C(distribution_channel)[T.GDS]         -0.6585      0.190     -3.461      0.001      -1.031      -0.286\n",
      "C(distribution_channel)[T.TA/TO]        0.2807      0.042      6.700      0.000       0.199       0.363\n",
      "C(is_repeated_guest)[T.1]              -0.7505      0.081     -9.270      0.000      -0.909      -0.592\n",
      "C(reserved_room_type)[T.B]              0.4069      0.073      5.546      0.000       0.263       0.551\n",
      "C(reserved_room_type)[T.C]             -0.0234      0.085     -0.275      0.783      -0.190       0.143\n",
      "C(reserved_room_type)[T.D]              0.0396      0.021      1.878      0.060      -0.002       0.081\n",
      "C(reserved_room_type)[T.E]              0.0243      0.034      0.719      0.472      -0.042       0.091\n",
      "C(reserved_room_type)[T.F]             -0.3532      0.055     -6.433      0.000      -0.461      -0.246\n",
      "C(reserved_room_type)[T.G]             -0.2825      0.063     -4.458      0.000      -0.407      -0.158\n",
      "C(reserved_room_type)[T.H]             -0.2541      0.099     -2.576      0.010      -0.447      -0.061\n",
      "C(deposit_type)[T.Non Refund]           5.1403      0.111     46.442      0.000       4.923       5.357\n",
      "C(deposit_type)[T.Refundable]           0.4005      0.205      1.955      0.051      -0.001       0.802\n",
      "C(customer_type)[T.Group]               0.0231      0.165      0.140      0.889      -0.301       0.347\n",
      "C(customer_type)[T.Transient]           1.2518      0.052     24.300      0.000       1.151       1.353\n",
      "C(customer_type)[T.Transient-Party]     0.4716      0.054      8.707      0.000       0.365       0.578\n",
      "lead_time                               0.0037   8.74e-05     42.704      0.000       0.004       0.004\n",
      "stays_in_weekend_nights                 0.0438      0.009      5.093      0.000       0.027       0.061\n",
      "stays_in_week_nights                    0.0512      0.005     11.215      0.000       0.042       0.060\n",
      "adults                                  0.0955      0.014      6.589      0.000       0.067       0.124\n",
      "children                                0.1930      0.023      8.317      0.000       0.148       0.239\n",
      "babies                                  0.0873      0.081      1.078      0.281      -0.071       0.246\n",
      "previous_cancellations                  2.8435      0.059     48.071      0.000       2.728       2.959\n",
      "previous_bookings_not_canceled         -0.5247      0.025    -20.882      0.000      -0.574      -0.475\n",
      "booking_changes                        -0.3900      0.015    -25.845      0.000      -0.420      -0.360\n",
      "adr                                     0.0061      0.000     31.932      0.000       0.006       0.006\n",
      "total_of_special_requests              -0.6015      0.011    -56.011      0.000      -0.623      -0.580\n",
      "=======================================================================================================\n"
     ]
    }
   ],
   "source": [
    "# Fit the logistic regression model\n",
    "formula = lrp.get_sm_formula() \n",
    "model = sm.Logit.from_formula(formula, data=df).fit()\n",
    "print(model.summary())"
   ]
  },
  {
   "cell_type": "code",
   "execution_count": 39,
   "id": "547e48d3",
   "metadata": {},
   "outputs": [
    {
     "data": {
      "text/plain": [
       "Intercept                                0.044895\n",
       "C(hotel)[T.Resort Hotel]                 0.942544\n",
       "C(meal)[T.FB]                            1.428275\n",
       "C(meal)[T.HB]                            0.698070\n",
       "C(meal)[T.SC]                            1.492876\n",
       "C(meal)[T.Undefined]                     0.518868\n",
       "C(distribution_channel)[T.Direct]        0.541836\n",
       "C(distribution_channel)[T.GDS]           0.517647\n",
       "C(distribution_channel)[T.TA/TO]         1.324022\n",
       "C(is_repeated_guest)[T.1]                0.472128\n",
       "C(reserved_room_type)[T.B]               1.502190\n",
       "C(reserved_room_type)[T.C]               0.976877\n",
       "C(reserved_room_type)[T.D]               1.040394\n",
       "C(reserved_room_type)[T.E]               1.024588\n",
       "C(reserved_room_type)[T.F]               0.702419\n",
       "C(reserved_room_type)[T.G]               0.753926\n",
       "C(reserved_room_type)[T.H]               0.775641\n",
       "C(deposit_type)[T.Non Refund]          170.758982\n",
       "C(deposit_type)[T.Refundable]            1.492579\n",
       "C(customer_type)[T.Group]                1.023402\n",
       "C(customer_type)[T.Transient]            3.496508\n",
       "C(customer_type)[T.Transient-Party]      1.602558\n",
       "lead_time                                1.003737\n",
       "stays_in_weekend_nights                  1.044724\n",
       "stays_in_week_nights                     1.052521\n",
       "adults                                   1.100218\n",
       "children                                 1.212906\n",
       "babies                                   1.091265\n",
       "previous_cancellations                  17.175312\n",
       "previous_bookings_not_canceled           0.591758\n",
       "booking_changes                          0.677025\n",
       "adr                                      1.006105\n",
       "total_of_special_requests                0.548001\n",
       "dtype: float64"
      ]
     },
     "execution_count": 39,
     "metadata": {},
     "output_type": "execute_result"
    }
   ],
   "source": [
    "# Odds Ratios\n",
    "np.exp(model.params)"
   ]
  },
  {
   "cell_type": "markdown",
   "id": "89e72e99",
   "metadata": {},
   "source": [
    "# 6. AIC Removal"
   ]
  },
  {
   "cell_type": "code",
   "execution_count": 31,
   "id": "80524d7a",
   "metadata": {},
   "outputs": [
    {
     "name": "stdout",
     "output_type": "stream",
     "text": [
      "Starting AIC:  109,413\n",
      "lead_time \t AIC:  111,222\n",
      "stays_in_weekend_nights \t AIC:  109,437\n",
      "stays_in_week_nights \t AIC:  109,537\n",
      "adults \t AIC:  109,460\n",
      "children \t AIC:  109,480\n",
      "babies \t AIC:  109,412\n",
      "previous_cancellations \t AIC:  113,075\n",
      "previous_bookings_not_canceled \t AIC:  110,789\n",
      "booking_changes \t AIC:  110,224\n",
      "adr \t AIC:  110,429\n",
      "total_of_special_requests \t AIC:  112,927\n",
      "C(hotel) \t AIC:  109,421\n",
      "C(meal) \t AIC:  109,939\n",
      "C(distribution_channel) \t AIC:  110,669\n",
      "C(is_repeated_guest) \t AIC:  109,504\n",
      "C(reserved_room_type) \t AIC:  109,502\n",
      "C(deposit_type) \t AIC:  120,862\n",
      "C(customer_type) \t AIC:  111,283\n",
      "Removing 'babies' reduced AIC from  109,413 to  109,412\n",
      "Starting AIC:  109,412\n",
      "lead_time \t AIC:  111,220\n",
      "stays_in_weekend_nights \t AIC:  109,436\n",
      "stays_in_week_nights \t AIC:  109,536\n",
      "adults \t AIC:  109,459\n",
      "children \t AIC:  109,479\n",
      "previous_cancellations \t AIC:  113,075\n",
      "previous_bookings_not_canceled \t AIC:  110,788\n",
      "booking_changes \t AIC:  110,223\n",
      "adr \t AIC:  110,428\n",
      "total_of_special_requests \t AIC:  112,938\n",
      "C(hotel) \t AIC:  109,420\n",
      "C(meal) \t AIC:  109,938\n",
      "C(distribution_channel) \t AIC:  110,667\n",
      "C(is_repeated_guest) \t AIC:  109,503\n",
      "C(reserved_room_type) \t AIC:  109,501\n",
      "C(deposit_type) \t AIC:  120,861\n",
      "C(customer_type) \t AIC:  111,283\n",
      "                           Logit Regression Results                           \n",
      "==============================================================================\n",
      "Dep. Variable:            is_canceled   No. Observations:               118887\n",
      "Model:                          Logit   Df Residuals:                   118855\n",
      "Method:                           MLE   Df Model:                           31\n",
      "Date:                Mon, 14 Oct 2024   Pseudo R-squ.:                  0.3029\n",
      "Time:                        21:21:41   Log-Likelihood:                -54674.\n",
      "converged:                       True   LL-Null:                       -78426.\n",
      "Covariance Type:            nonrobust   LLR p-value:                     0.000\n",
      "=======================================================================================================\n",
      "                                          coef    std err          z      P>|z|      [0.025      0.975]\n",
      "-------------------------------------------------------------------------------------------------------\n",
      "Intercept                              -3.1035      0.071    -43.716      0.000      -3.243      -2.964\n",
      "C(hotel)[T.Resort Hotel]               -0.0590      0.019     -3.095      0.002      -0.096      -0.022\n",
      "C(meal)[T.FB]                           0.3596      0.104      3.469      0.001       0.156       0.563\n",
      "C(meal)[T.HB]                          -0.3591      0.025    -14.151      0.000      -0.409      -0.309\n",
      "C(meal)[T.SC]                           0.4004      0.025     16.076      0.000       0.352       0.449\n",
      "C(meal)[T.Undefined]                   -0.6548      0.098     -6.686      0.000      -0.847      -0.463\n",
      "C(distribution_channel)[T.Direct]      -0.6120      0.048    -12.875      0.000      -0.705      -0.519\n",
      "C(distribution_channel)[T.GDS]         -0.6583      0.190     -3.461      0.001      -1.031      -0.285\n",
      "C(distribution_channel)[T.TA/TO]        0.2807      0.042      6.701      0.000       0.199       0.363\n",
      "C(is_repeated_guest)[T.1]              -0.7507      0.081     -9.274      0.000      -0.909      -0.592\n",
      "C(reserved_room_type)[T.B]              0.4069      0.073      5.545      0.000       0.263       0.551\n",
      "C(reserved_room_type)[T.C]             -0.0193      0.085     -0.227      0.820      -0.186       0.147\n",
      "C(reserved_room_type)[T.D]              0.0395      0.021      1.875      0.061      -0.002       0.081\n",
      "C(reserved_room_type)[T.E]              0.0242      0.034      0.716      0.474      -0.042       0.090\n",
      "C(reserved_room_type)[T.F]             -0.3525      0.055     -6.420      0.000      -0.460      -0.245\n",
      "C(reserved_room_type)[T.G]             -0.2808      0.063     -4.433      0.000      -0.405      -0.157\n",
      "C(reserved_room_type)[T.H]             -0.2534      0.099     -2.569      0.010      -0.447      -0.060\n",
      "C(deposit_type)[T.Non Refund]           5.1402      0.111     46.442      0.000       4.923       5.357\n",
      "C(deposit_type)[T.Refundable]           0.3996      0.205      1.951      0.051      -0.002       0.801\n",
      "C(customer_type)[T.Group]               0.0233      0.165      0.141      0.888      -0.301       0.347\n",
      "C(customer_type)[T.Transient]           1.2518      0.052     24.300      0.000       1.151       1.353\n",
      "C(customer_type)[T.Transient-Party]     0.4713      0.054      8.702      0.000       0.365       0.577\n",
      "lead_time                               0.0037   8.73e-05     42.695      0.000       0.004       0.004\n",
      "stays_in_weekend_nights                 0.0438      0.009      5.096      0.000       0.027       0.061\n",
      "stays_in_week_nights                    0.0512      0.005     11.217      0.000       0.042       0.060\n",
      "adults                                  0.0955      0.014      6.591      0.000       0.067       0.124\n",
      "children                                0.1926      0.023      8.299      0.000       0.147       0.238\n",
      "previous_cancellations                  2.8436      0.059     48.074      0.000       2.728       2.960\n",
      "previous_bookings_not_canceled         -0.5248      0.025    -20.888      0.000      -0.574      -0.476\n",
      "booking_changes                        -0.3888      0.015    -25.852      0.000      -0.418      -0.359\n",
      "adr                                     0.0061      0.000     31.925      0.000       0.006       0.006\n",
      "total_of_special_requests              -0.6007      0.011    -56.065      0.000      -0.622      -0.580\n",
      "=======================================================================================================\n"
     ]
    }
   ],
   "source": [
    "# Function for backward elimination based on AIC (removing entire categorical variables)\n",
    "def stepwise_aic_reduction(data, dv: str, ivs: list):\n",
    "    current_ivs = ivs\n",
    "    formula = dv + \" ~ \" + \" + \".join(ivs)\n",
    "    current_formula = formula\n",
    "    best_aic = float('inf')  # Initialize with a large value for AIC\n",
    "    improvement = True\n",
    "\n",
    "    while improvement:\n",
    "        # Fit the logistic regression model\n",
    "        model = sm.Logit.from_formula(current_formula, data=data).fit(disp=0)\n",
    "        current_aic = model.aic\n",
    "        print(f\"Starting AIC: {current_aic: ,.0f}\")\n",
    "\n",
    "        # Initialize improvement flag\n",
    "        improvement = False\n",
    "\n",
    "        # Track the best AIC and formula for this iteration\n",
    "        best_aic_this_round = current_aic\n",
    "        worst_feature = None\n",
    "\n",
    "        # Try removing each continuous or categorical variable as a whole\n",
    "        for feature in current_ivs:\n",
    "            reduced_ivs = [ii for ii in current_ivs if ii != feature]\n",
    "            reduced_formula = dv + \" ~ \" + \" + \".join(reduced_ivs)\n",
    "\n",
    "            # Fit the reduced model\n",
    "            reduced_model = sm.Logit.from_formula(reduced_formula, data=data).fit(disp=0)\n",
    "            reduced_aic = reduced_model.aic\n",
    "            print(f\"{feature} \\t AIC: {reduced_aic: ,.0f}\")\n",
    "\n",
    "            # If the reduced model has a lower AIC, track this variable for removal\n",
    "            if reduced_aic < best_aic_this_round:\n",
    "                best_aic_this_round = reduced_aic\n",
    "                worst_feature = feature\n",
    "                improvement = True\n",
    "\n",
    "        # If we found a variable to remove that improves the AIC, update the formula\n",
    "        if improvement:\n",
    "            print(f\"Removing '{worst_feature}' reduced AIC from {current_aic: ,.0f} to {best_aic_this_round: ,.0f}\")\n",
    "            current_ivs = [ii for ii in ivs if ii != worst_feature]\n",
    "            current_formula = dv + \" ~ \" + \" + \".join(current_ivs)\n",
    "            best_aic = best_aic_this_round\n",
    "    \n",
    "    # Return the final model after AIC-based reduction\n",
    "    final_model = sm.Logit.from_formula(current_formula, data=data).fit(disp=0)\n",
    "    return final_model\n",
    "\n",
    "model_ivs = lrp.ivs_num + [f\"C({ii})\" for ii in lrp.ivs_cat]\n",
    "# # Perform AIC-based stepwise reduction\n",
    "final_model = stepwise_aic_reduction(df, dv=lrp.dv, ivs=model_ivs)\n",
    "\n",
    "# # Print final model summary\n",
    "print(final_model.summary())"
   ]
  },
  {
   "cell_type": "markdown",
   "id": "c8ab09e9",
   "metadata": {},
   "source": [
    "# 7. Dominance Analysis"
   ]
  },
  {
   "cell_type": "code",
   "execution_count": 32,
   "id": "07e21f8e",
   "metadata": {},
   "outputs": [
    {
     "name": "stdout",
     "output_type": "stream",
     "text": [
      "Index(['is_canceled', 'lead_time', 'stays_in_weekend_nights',\n",
      "       'stays_in_week_nights', 'adults', 'children', 'babies',\n",
      "       'previous_cancellations', 'previous_bookings_not_canceled',\n",
      "       'booking_changes', 'adr', 'total_of_special_requests',\n",
      "       'hotel_Resort Hotel', 'meal_FB', 'meal_HB', 'meal_SC', 'meal_Undefined',\n",
      "       'distribution_channel_Direct', 'distribution_channel_GDS',\n",
      "       'distribution_channel_TA/TO', 'is_repeated_guest_1',\n",
      "       'reserved_room_type_B', 'reserved_room_type_C', 'reserved_room_type_D',\n",
      "       'reserved_room_type_E', 'reserved_room_type_F', 'reserved_room_type_G',\n",
      "       'reserved_room_type_H', 'deposit_type_Non Refund',\n",
      "       'deposit_type_Refundable', 'customer_type_Group',\n",
      "       'customer_type_Transient', 'customer_type_Transient-Party'],\n",
      "      dtype='object')\n",
      "['lead_time', 'stays_in_weekend_nights', 'stays_in_week_nights', 'adults', 'children', 'babies', 'previous_cancellations', 'previous_bookings_not_canceled', 'booking_changes', 'adr', 'total_of_special_requests', 'hotel_Resort Hotel', 'meal_FB', 'meal_HB', 'meal_SC', 'meal_Undefined', 'distribution_channel_Direct', 'distribution_channel_GDS', 'distribution_channel_TA/TO', 'is_repeated_guest_1', 'reserved_room_type_B', 'reserved_room_type_C', 'reserved_room_type_D', 'reserved_room_type_E', 'reserved_room_type_F', 'reserved_room_type_G', 'reserved_room_type_H', 'deposit_type_Non Refund', 'deposit_type_Refundable', 'customer_type_Group', 'customer_type_Transient', 'customer_type_Transient-Party']\n"
     ]
    }
   ],
   "source": [
    "# Dominance Prep\n",
    "keep_cols = [lrp.dv] + lrp.ivs_num + lrp.ivs_cat\n",
    "df_encoded = pd.get_dummies(df[keep_cols], columns=lrp.ivs_cat, drop_first=True)\n",
    "print(df_encoded.columns)\n",
    "ivs_features = [ii for ii in df_encoded.columns if ii != lrp.dv]\n",
    "print(ivs_features)"
   ]
  },
  {
   "cell_type": "code",
   "execution_count": 33,
   "id": "0a099d17",
   "metadata": {},
   "outputs": [
    {
     "name": "stdout",
     "output_type": "stream",
     "text": [
      "The following number of rows were dropped: 0\n"
     ]
    }
   ],
   "source": [
    "nrow_before = df_encoded.shape[0]\n",
    "df_encoded = df_encoded.loc[~(df_encoded[\"adr\"]<0)]\n",
    "nrow_after = df_encoded.shape[0]\n",
    "print(f\"The following number of rows were dropped: {nrow_before - nrow_after}\")"
   ]
  },
  {
   "cell_type": "code",
   "execution_count": 34,
   "id": "94807363",
   "metadata": {},
   "outputs": [
    {
     "name": "stdout",
     "output_type": "stream",
     "text": [
      "Selecting 10 Best Predictors for the Model\n",
      "Selected Predictors :  ['lead_time', 'previous_cancellations', 'previous_bookings_not_canceled', 'booking_changes', 'adr', 'total_of_special_requests', 'hotel_Resort Hotel', 'distribution_channel_Direct', 'deposit_type_Non Refund', 'customer_type_Transient-Party']\n",
      "\n",
      "********************  Pseudo R-Squared of Complete Model :  ********************\n",
      "\n",
      "MacFadden's R-Squared : 0.2908269160874535 \n",
      "\n"
     ]
    }
   ],
   "source": [
    "dominance_classification=Dominance(data=df_encoded, target='is_canceled', top_k=10, objective=0)"
   ]
  },
  {
   "cell_type": "code",
   "execution_count": 35,
   "id": "bbd6b16d",
   "metadata": {},
   "outputs": [
    {
     "name": "stdout",
     "output_type": "stream",
     "text": [
      "Selecting 10 Best Predictors for the Model\n",
      "Selected Predictors :  ['lead_time', 'previous_cancellations', 'previous_bookings_not_canceled', 'booking_changes', 'adr', 'total_of_special_requests', 'hotel_Resort Hotel', 'distribution_channel_Direct', 'deposit_type_Non Refund', 'customer_type_Transient-Party']\n",
      "\n",
      "Creating models for 1023 possible combinations of 10 features :\n"
     ]
    },
    {
     "name": "stderr",
     "output_type": "stream",
     "text": [
      "100%|███████████████████████████████████████████| 10/10 [06:44<00:00, 40.48s/it]\n"
     ]
    },
    {
     "name": "stdout",
     "output_type": "stream",
     "text": [
      "#########################  Model Training Done!!!!!  #########################\n",
      "\n",
      "#########################  Calculating Variable Dominances  #########################\n"
     ]
    },
    {
     "name": "stderr",
     "output_type": "stream",
     "text": [
      "100%|███████████████████████████████████████████████| 9/9 [00:00<00:00, 28.44it/s]"
     ]
    },
    {
     "name": "stdout",
     "output_type": "stream",
     "text": [
      "#########################  Variable Dominance Calculation Done!!!!!  #########################\n",
      "\n"
     ]
    },
    {
     "name": "stderr",
     "output_type": "stream",
     "text": [
      "\n"
     ]
    }
   ],
   "source": [
    "incr_variable_rsquare=dominance_classification.incremental_rsquare()"
   ]
  },
  {
   "cell_type": "code",
   "execution_count": 36,
   "id": "c9e605ed",
   "metadata": {},
   "outputs": [
    {
     "data": {
      "application/vnd.plotly.v1+json": {
       "config": {
        "linkText": "Export to plot.ly",
        "plotlyServerURL": "https://plot.ly",
        "showLink": false
       },
       "data": [
        {
         "marker": {
          "color": "rgba(255, 153, 51, 0.6)",
          "line": {
           "color": "rgba(255, 153, 51, 1.0)",
           "width": 1
          }
         },
         "name": "incremental_r2",
         "orientation": "v",
         "text": "",
         "type": "bar",
         "x": [
          "deposit_type_Non Refund",
          "lead_time",
          "total_of_special_requests",
          "previous_cancellations",
          "customer_type_Transient-Party",
          "booking_changes",
          "distribution_channel_Direct",
          "previous_bookings_not_canceled",
          "adr",
          "hotel_Resort Hotel"
         ],
         "y": [
          0.13175546272127328,
          0.03698759932434715,
          0.03228100820466536,
          0.027395948343968867,
          0.015727298421232227,
          0.011903693151629688,
          0.011873622738016013,
          0.010347418797928564,
          0.006958553632579042,
          0.0055963107518133175
         ]
        }
       ],
       "layout": {
        "legend": {
         "bgcolor": "#F5F6F9",
         "font": {
          "color": "#4D5663"
         }
        },
        "paper_bgcolor": "#F5F6F9",
        "plot_bgcolor": "#F5F6F9",
        "template": {
         "data": {
          "bar": [
           {
            "error_x": {
             "color": "#2a3f5f"
            },
            "error_y": {
             "color": "#2a3f5f"
            },
            "marker": {
             "line": {
              "color": "#E5ECF6",
              "width": 0.5
             },
             "pattern": {
              "fillmode": "overlay",
              "size": 10,
              "solidity": 0.2
             }
            },
            "type": "bar"
           }
          ],
          "barpolar": [
           {
            "marker": {
             "line": {
              "color": "#E5ECF6",
              "width": 0.5
             },
             "pattern": {
              "fillmode": "overlay",
              "size": 10,
              "solidity": 0.2
             }
            },
            "type": "barpolar"
           }
          ],
          "carpet": [
           {
            "aaxis": {
             "endlinecolor": "#2a3f5f",
             "gridcolor": "white",
             "linecolor": "white",
             "minorgridcolor": "white",
             "startlinecolor": "#2a3f5f"
            },
            "baxis": {
             "endlinecolor": "#2a3f5f",
             "gridcolor": "white",
             "linecolor": "white",
             "minorgridcolor": "white",
             "startlinecolor": "#2a3f5f"
            },
            "type": "carpet"
           }
          ],
          "choropleth": [
           {
            "colorbar": {
             "outlinewidth": 0,
             "ticks": ""
            },
            "type": "choropleth"
           }
          ],
          "contour": [
           {
            "colorbar": {
             "outlinewidth": 0,
             "ticks": ""
            },
            "colorscale": [
             [
              0,
              "#0d0887"
             ],
             [
              0.1111111111111111,
              "#46039f"
             ],
             [
              0.2222222222222222,
              "#7201a8"
             ],
             [
              0.3333333333333333,
              "#9c179e"
             ],
             [
              0.4444444444444444,
              "#bd3786"
             ],
             [
              0.5555555555555556,
              "#d8576b"
             ],
             [
              0.6666666666666666,
              "#ed7953"
             ],
             [
              0.7777777777777778,
              "#fb9f3a"
             ],
             [
              0.8888888888888888,
              "#fdca26"
             ],
             [
              1,
              "#f0f921"
             ]
            ],
            "type": "contour"
           }
          ],
          "contourcarpet": [
           {
            "colorbar": {
             "outlinewidth": 0,
             "ticks": ""
            },
            "type": "contourcarpet"
           }
          ],
          "heatmap": [
           {
            "colorbar": {
             "outlinewidth": 0,
             "ticks": ""
            },
            "colorscale": [
             [
              0,
              "#0d0887"
             ],
             [
              0.1111111111111111,
              "#46039f"
             ],
             [
              0.2222222222222222,
              "#7201a8"
             ],
             [
              0.3333333333333333,
              "#9c179e"
             ],
             [
              0.4444444444444444,
              "#bd3786"
             ],
             [
              0.5555555555555556,
              "#d8576b"
             ],
             [
              0.6666666666666666,
              "#ed7953"
             ],
             [
              0.7777777777777778,
              "#fb9f3a"
             ],
             [
              0.8888888888888888,
              "#fdca26"
             ],
             [
              1,
              "#f0f921"
             ]
            ],
            "type": "heatmap"
           }
          ],
          "heatmapgl": [
           {
            "colorbar": {
             "outlinewidth": 0,
             "ticks": ""
            },
            "colorscale": [
             [
              0,
              "#0d0887"
             ],
             [
              0.1111111111111111,
              "#46039f"
             ],
             [
              0.2222222222222222,
              "#7201a8"
             ],
             [
              0.3333333333333333,
              "#9c179e"
             ],
             [
              0.4444444444444444,
              "#bd3786"
             ],
             [
              0.5555555555555556,
              "#d8576b"
             ],
             [
              0.6666666666666666,
              "#ed7953"
             ],
             [
              0.7777777777777778,
              "#fb9f3a"
             ],
             [
              0.8888888888888888,
              "#fdca26"
             ],
             [
              1,
              "#f0f921"
             ]
            ],
            "type": "heatmapgl"
           }
          ],
          "histogram": [
           {
            "marker": {
             "pattern": {
              "fillmode": "overlay",
              "size": 10,
              "solidity": 0.2
             }
            },
            "type": "histogram"
           }
          ],
          "histogram2d": [
           {
            "colorbar": {
             "outlinewidth": 0,
             "ticks": ""
            },
            "colorscale": [
             [
              0,
              "#0d0887"
             ],
             [
              0.1111111111111111,
              "#46039f"
             ],
             [
              0.2222222222222222,
              "#7201a8"
             ],
             [
              0.3333333333333333,
              "#9c179e"
             ],
             [
              0.4444444444444444,
              "#bd3786"
             ],
             [
              0.5555555555555556,
              "#d8576b"
             ],
             [
              0.6666666666666666,
              "#ed7953"
             ],
             [
              0.7777777777777778,
              "#fb9f3a"
             ],
             [
              0.8888888888888888,
              "#fdca26"
             ],
             [
              1,
              "#f0f921"
             ]
            ],
            "type": "histogram2d"
           }
          ],
          "histogram2dcontour": [
           {
            "colorbar": {
             "outlinewidth": 0,
             "ticks": ""
            },
            "colorscale": [
             [
              0,
              "#0d0887"
             ],
             [
              0.1111111111111111,
              "#46039f"
             ],
             [
              0.2222222222222222,
              "#7201a8"
             ],
             [
              0.3333333333333333,
              "#9c179e"
             ],
             [
              0.4444444444444444,
              "#bd3786"
             ],
             [
              0.5555555555555556,
              "#d8576b"
             ],
             [
              0.6666666666666666,
              "#ed7953"
             ],
             [
              0.7777777777777778,
              "#fb9f3a"
             ],
             [
              0.8888888888888888,
              "#fdca26"
             ],
             [
              1,
              "#f0f921"
             ]
            ],
            "type": "histogram2dcontour"
           }
          ],
          "mesh3d": [
           {
            "colorbar": {
             "outlinewidth": 0,
             "ticks": ""
            },
            "type": "mesh3d"
           }
          ],
          "parcoords": [
           {
            "line": {
             "colorbar": {
              "outlinewidth": 0,
              "ticks": ""
             }
            },
            "type": "parcoords"
           }
          ],
          "pie": [
           {
            "automargin": true,
            "type": "pie"
           }
          ],
          "scatter": [
           {
            "fillpattern": {
             "fillmode": "overlay",
             "size": 10,
             "solidity": 0.2
            },
            "type": "scatter"
           }
          ],
          "scatter3d": [
           {
            "line": {
             "colorbar": {
              "outlinewidth": 0,
              "ticks": ""
             }
            },
            "marker": {
             "colorbar": {
              "outlinewidth": 0,
              "ticks": ""
             }
            },
            "type": "scatter3d"
           }
          ],
          "scattercarpet": [
           {
            "marker": {
             "colorbar": {
              "outlinewidth": 0,
              "ticks": ""
             }
            },
            "type": "scattercarpet"
           }
          ],
          "scattergeo": [
           {
            "marker": {
             "colorbar": {
              "outlinewidth": 0,
              "ticks": ""
             }
            },
            "type": "scattergeo"
           }
          ],
          "scattergl": [
           {
            "marker": {
             "colorbar": {
              "outlinewidth": 0,
              "ticks": ""
             }
            },
            "type": "scattergl"
           }
          ],
          "scattermapbox": [
           {
            "marker": {
             "colorbar": {
              "outlinewidth": 0,
              "ticks": ""
             }
            },
            "type": "scattermapbox"
           }
          ],
          "scatterpolar": [
           {
            "marker": {
             "colorbar": {
              "outlinewidth": 0,
              "ticks": ""
             }
            },
            "type": "scatterpolar"
           }
          ],
          "scatterpolargl": [
           {
            "marker": {
             "colorbar": {
              "outlinewidth": 0,
              "ticks": ""
             }
            },
            "type": "scatterpolargl"
           }
          ],
          "scatterternary": [
           {
            "marker": {
             "colorbar": {
              "outlinewidth": 0,
              "ticks": ""
             }
            },
            "type": "scatterternary"
           }
          ],
          "surface": [
           {
            "colorbar": {
             "outlinewidth": 0,
             "ticks": ""
            },
            "colorscale": [
             [
              0,
              "#0d0887"
             ],
             [
              0.1111111111111111,
              "#46039f"
             ],
             [
              0.2222222222222222,
              "#7201a8"
             ],
             [
              0.3333333333333333,
              "#9c179e"
             ],
             [
              0.4444444444444444,
              "#bd3786"
             ],
             [
              0.5555555555555556,
              "#d8576b"
             ],
             [
              0.6666666666666666,
              "#ed7953"
             ],
             [
              0.7777777777777778,
              "#fb9f3a"
             ],
             [
              0.8888888888888888,
              "#fdca26"
             ],
             [
              1,
              "#f0f921"
             ]
            ],
            "type": "surface"
           }
          ],
          "table": [
           {
            "cells": {
             "fill": {
              "color": "#EBF0F8"
             },
             "line": {
              "color": "white"
             }
            },
            "header": {
             "fill": {
              "color": "#C8D4E3"
             },
             "line": {
              "color": "white"
             }
            },
            "type": "table"
           }
          ]
         },
         "layout": {
          "annotationdefaults": {
           "arrowcolor": "#2a3f5f",
           "arrowhead": 0,
           "arrowwidth": 1
          },
          "autotypenumbers": "strict",
          "coloraxis": {
           "colorbar": {
            "outlinewidth": 0,
            "ticks": ""
           }
          },
          "colorscale": {
           "diverging": [
            [
             0,
             "#8e0152"
            ],
            [
             0.1,
             "#c51b7d"
            ],
            [
             0.2,
             "#de77ae"
            ],
            [
             0.3,
             "#f1b6da"
            ],
            [
             0.4,
             "#fde0ef"
            ],
            [
             0.5,
             "#f7f7f7"
            ],
            [
             0.6,
             "#e6f5d0"
            ],
            [
             0.7,
             "#b8e186"
            ],
            [
             0.8,
             "#7fbc41"
            ],
            [
             0.9,
             "#4d9221"
            ],
            [
             1,
             "#276419"
            ]
           ],
           "sequential": [
            [
             0,
             "#0d0887"
            ],
            [
             0.1111111111111111,
             "#46039f"
            ],
            [
             0.2222222222222222,
             "#7201a8"
            ],
            [
             0.3333333333333333,
             "#9c179e"
            ],
            [
             0.4444444444444444,
             "#bd3786"
            ],
            [
             0.5555555555555556,
             "#d8576b"
            ],
            [
             0.6666666666666666,
             "#ed7953"
            ],
            [
             0.7777777777777778,
             "#fb9f3a"
            ],
            [
             0.8888888888888888,
             "#fdca26"
            ],
            [
             1,
             "#f0f921"
            ]
           ],
           "sequentialminus": [
            [
             0,
             "#0d0887"
            ],
            [
             0.1111111111111111,
             "#46039f"
            ],
            [
             0.2222222222222222,
             "#7201a8"
            ],
            [
             0.3333333333333333,
             "#9c179e"
            ],
            [
             0.4444444444444444,
             "#bd3786"
            ],
            [
             0.5555555555555556,
             "#d8576b"
            ],
            [
             0.6666666666666666,
             "#ed7953"
            ],
            [
             0.7777777777777778,
             "#fb9f3a"
            ],
            [
             0.8888888888888888,
             "#fdca26"
            ],
            [
             1,
             "#f0f921"
            ]
           ]
          },
          "colorway": [
           "#636efa",
           "#EF553B",
           "#00cc96",
           "#ab63fa",
           "#FFA15A",
           "#19d3f3",
           "#FF6692",
           "#B6E880",
           "#FF97FF",
           "#FECB52"
          ],
          "font": {
           "color": "#2a3f5f"
          },
          "geo": {
           "bgcolor": "white",
           "lakecolor": "white",
           "landcolor": "#E5ECF6",
           "showlakes": true,
           "showland": true,
           "subunitcolor": "white"
          },
          "hoverlabel": {
           "align": "left"
          },
          "hovermode": "closest",
          "mapbox": {
           "style": "light"
          },
          "paper_bgcolor": "white",
          "plot_bgcolor": "#E5ECF6",
          "polar": {
           "angularaxis": {
            "gridcolor": "white",
            "linecolor": "white",
            "ticks": ""
           },
           "bgcolor": "#E5ECF6",
           "radialaxis": {
            "gridcolor": "white",
            "linecolor": "white",
            "ticks": ""
           }
          },
          "scene": {
           "xaxis": {
            "backgroundcolor": "#E5ECF6",
            "gridcolor": "white",
            "gridwidth": 2,
            "linecolor": "white",
            "showbackground": true,
            "ticks": "",
            "zerolinecolor": "white"
           },
           "yaxis": {
            "backgroundcolor": "#E5ECF6",
            "gridcolor": "white",
            "gridwidth": 2,
            "linecolor": "white",
            "showbackground": true,
            "ticks": "",
            "zerolinecolor": "white"
           },
           "zaxis": {
            "backgroundcolor": "#E5ECF6",
            "gridcolor": "white",
            "gridwidth": 2,
            "linecolor": "white",
            "showbackground": true,
            "ticks": "",
            "zerolinecolor": "white"
           }
          },
          "shapedefaults": {
           "line": {
            "color": "#2a3f5f"
           }
          },
          "ternary": {
           "aaxis": {
            "gridcolor": "white",
            "linecolor": "white",
            "ticks": ""
           },
           "baxis": {
            "gridcolor": "white",
            "linecolor": "white",
            "ticks": ""
           },
           "bgcolor": "#E5ECF6",
           "caxis": {
            "gridcolor": "white",
            "linecolor": "white",
            "ticks": ""
           }
          },
          "title": {
           "x": 0.05
          },
          "xaxis": {
           "automargin": true,
           "gridcolor": "white",
           "linecolor": "white",
           "ticks": "",
           "title": {
            "standoff": 15
           },
           "zerolinecolor": "white",
           "zerolinewidth": 2
          },
          "yaxis": {
           "automargin": true,
           "gridcolor": "white",
           "linecolor": "white",
           "ticks": "",
           "title": {
            "standoff": 15
           },
           "zerolinecolor": "white",
           "zerolinewidth": 2
          }
         }
        },
        "title": {
         "font": {
          "color": "#4D5663"
         },
         "text": "Incremental Pseudo R Squared for Top 10 Variables "
        },
        "xaxis": {
         "gridcolor": "#E1E5ED",
         "showgrid": true,
         "tickfont": {
          "color": "#4D5663"
         },
         "title": {
          "font": {
           "color": "#4D5663"
          },
          "text": "Estimators"
         },
         "zerolinecolor": "#E1E5ED"
        },
        "yaxis": {
         "gridcolor": "#E1E5ED",
         "showgrid": true,
         "tickfont": {
          "color": "#4D5663"
         },
         "title": {
          "font": {
           "color": "#4D5663"
          },
          "text": "Incremental R2"
         },
         "zerolinecolor": "#E1E5ED"
        }
       }
      },
      "text/html": [
       "<div>                            <div id=\"0d9ef4e2-c40b-4dfc-8eff-d30a25254163\" class=\"plotly-graph-div\" style=\"height:525px; width:100%;\"></div>            <script type=\"text/javascript\">                require([\"plotly\"], function(Plotly) {                    window.PLOTLYENV=window.PLOTLYENV || {};                                    if (document.getElementById(\"0d9ef4e2-c40b-4dfc-8eff-d30a25254163\")) {                    Plotly.newPlot(                        \"0d9ef4e2-c40b-4dfc-8eff-d30a25254163\",                        [{\"marker\":{\"color\":\"rgba(255, 153, 51, 0.6)\",\"line\":{\"color\":\"rgba(255, 153, 51, 1.0)\",\"width\":1}},\"name\":\"incremental_r2\",\"orientation\":\"v\",\"text\":\"\",\"x\":[\"deposit_type_Non Refund\",\"lead_time\",\"total_of_special_requests\",\"previous_cancellations\",\"customer_type_Transient-Party\",\"booking_changes\",\"distribution_channel_Direct\",\"previous_bookings_not_canceled\",\"adr\",\"hotel_Resort Hotel\"],\"y\":[0.13175546272127328,0.03698759932434715,0.03228100820466536,0.027395948343968867,0.015727298421232227,0.011903693151629688,0.011873622738016013,0.010347418797928564,0.006958553632579042,0.0055963107518133175],\"type\":\"bar\"}],                        {\"legend\":{\"bgcolor\":\"#F5F6F9\",\"font\":{\"color\":\"#4D5663\"}},\"paper_bgcolor\":\"#F5F6F9\",\"plot_bgcolor\":\"#F5F6F9\",\"template\":{\"data\":{\"barpolar\":[{\"marker\":{\"line\":{\"color\":\"#E5ECF6\",\"width\":0.5},\"pattern\":{\"fillmode\":\"overlay\",\"size\":10,\"solidity\":0.2}},\"type\":\"barpolar\"}],\"bar\":[{\"error_x\":{\"color\":\"#2a3f5f\"},\"error_y\":{\"color\":\"#2a3f5f\"},\"marker\":{\"line\":{\"color\":\"#E5ECF6\",\"width\":0.5},\"pattern\":{\"fillmode\":\"overlay\",\"size\":10,\"solidity\":0.2}},\"type\":\"bar\"}],\"carpet\":[{\"aaxis\":{\"endlinecolor\":\"#2a3f5f\",\"gridcolor\":\"white\",\"linecolor\":\"white\",\"minorgridcolor\":\"white\",\"startlinecolor\":\"#2a3f5f\"},\"baxis\":{\"endlinecolor\":\"#2a3f5f\",\"gridcolor\":\"white\",\"linecolor\":\"white\",\"minorgridcolor\":\"white\",\"startlinecolor\":\"#2a3f5f\"},\"type\":\"carpet\"}],\"choropleth\":[{\"colorbar\":{\"outlinewidth\":0,\"ticks\":\"\"},\"type\":\"choropleth\"}],\"contourcarpet\":[{\"colorbar\":{\"outlinewidth\":0,\"ticks\":\"\"},\"type\":\"contourcarpet\"}],\"contour\":[{\"colorbar\":{\"outlinewidth\":0,\"ticks\":\"\"},\"colorscale\":[[0.0,\"#0d0887\"],[0.1111111111111111,\"#46039f\"],[0.2222222222222222,\"#7201a8\"],[0.3333333333333333,\"#9c179e\"],[0.4444444444444444,\"#bd3786\"],[0.5555555555555556,\"#d8576b\"],[0.6666666666666666,\"#ed7953\"],[0.7777777777777778,\"#fb9f3a\"],[0.8888888888888888,\"#fdca26\"],[1.0,\"#f0f921\"]],\"type\":\"contour\"}],\"heatmapgl\":[{\"colorbar\":{\"outlinewidth\":0,\"ticks\":\"\"},\"colorscale\":[[0.0,\"#0d0887\"],[0.1111111111111111,\"#46039f\"],[0.2222222222222222,\"#7201a8\"],[0.3333333333333333,\"#9c179e\"],[0.4444444444444444,\"#bd3786\"],[0.5555555555555556,\"#d8576b\"],[0.6666666666666666,\"#ed7953\"],[0.7777777777777778,\"#fb9f3a\"],[0.8888888888888888,\"#fdca26\"],[1.0,\"#f0f921\"]],\"type\":\"heatmapgl\"}],\"heatmap\":[{\"colorbar\":{\"outlinewidth\":0,\"ticks\":\"\"},\"colorscale\":[[0.0,\"#0d0887\"],[0.1111111111111111,\"#46039f\"],[0.2222222222222222,\"#7201a8\"],[0.3333333333333333,\"#9c179e\"],[0.4444444444444444,\"#bd3786\"],[0.5555555555555556,\"#d8576b\"],[0.6666666666666666,\"#ed7953\"],[0.7777777777777778,\"#fb9f3a\"],[0.8888888888888888,\"#fdca26\"],[1.0,\"#f0f921\"]],\"type\":\"heatmap\"}],\"histogram2dcontour\":[{\"colorbar\":{\"outlinewidth\":0,\"ticks\":\"\"},\"colorscale\":[[0.0,\"#0d0887\"],[0.1111111111111111,\"#46039f\"],[0.2222222222222222,\"#7201a8\"],[0.3333333333333333,\"#9c179e\"],[0.4444444444444444,\"#bd3786\"],[0.5555555555555556,\"#d8576b\"],[0.6666666666666666,\"#ed7953\"],[0.7777777777777778,\"#fb9f3a\"],[0.8888888888888888,\"#fdca26\"],[1.0,\"#f0f921\"]],\"type\":\"histogram2dcontour\"}],\"histogram2d\":[{\"colorbar\":{\"outlinewidth\":0,\"ticks\":\"\"},\"colorscale\":[[0.0,\"#0d0887\"],[0.1111111111111111,\"#46039f\"],[0.2222222222222222,\"#7201a8\"],[0.3333333333333333,\"#9c179e\"],[0.4444444444444444,\"#bd3786\"],[0.5555555555555556,\"#d8576b\"],[0.6666666666666666,\"#ed7953\"],[0.7777777777777778,\"#fb9f3a\"],[0.8888888888888888,\"#fdca26\"],[1.0,\"#f0f921\"]],\"type\":\"histogram2d\"}],\"histogram\":[{\"marker\":{\"pattern\":{\"fillmode\":\"overlay\",\"size\":10,\"solidity\":0.2}},\"type\":\"histogram\"}],\"mesh3d\":[{\"colorbar\":{\"outlinewidth\":0,\"ticks\":\"\"},\"type\":\"mesh3d\"}],\"parcoords\":[{\"line\":{\"colorbar\":{\"outlinewidth\":0,\"ticks\":\"\"}},\"type\":\"parcoords\"}],\"pie\":[{\"automargin\":true,\"type\":\"pie\"}],\"scatter3d\":[{\"line\":{\"colorbar\":{\"outlinewidth\":0,\"ticks\":\"\"}},\"marker\":{\"colorbar\":{\"outlinewidth\":0,\"ticks\":\"\"}},\"type\":\"scatter3d\"}],\"scattercarpet\":[{\"marker\":{\"colorbar\":{\"outlinewidth\":0,\"ticks\":\"\"}},\"type\":\"scattercarpet\"}],\"scattergeo\":[{\"marker\":{\"colorbar\":{\"outlinewidth\":0,\"ticks\":\"\"}},\"type\":\"scattergeo\"}],\"scattergl\":[{\"marker\":{\"colorbar\":{\"outlinewidth\":0,\"ticks\":\"\"}},\"type\":\"scattergl\"}],\"scattermapbox\":[{\"marker\":{\"colorbar\":{\"outlinewidth\":0,\"ticks\":\"\"}},\"type\":\"scattermapbox\"}],\"scatterpolargl\":[{\"marker\":{\"colorbar\":{\"outlinewidth\":0,\"ticks\":\"\"}},\"type\":\"scatterpolargl\"}],\"scatterpolar\":[{\"marker\":{\"colorbar\":{\"outlinewidth\":0,\"ticks\":\"\"}},\"type\":\"scatterpolar\"}],\"scatter\":[{\"fillpattern\":{\"fillmode\":\"overlay\",\"size\":10,\"solidity\":0.2},\"type\":\"scatter\"}],\"scatterternary\":[{\"marker\":{\"colorbar\":{\"outlinewidth\":0,\"ticks\":\"\"}},\"type\":\"scatterternary\"}],\"surface\":[{\"colorbar\":{\"outlinewidth\":0,\"ticks\":\"\"},\"colorscale\":[[0.0,\"#0d0887\"],[0.1111111111111111,\"#46039f\"],[0.2222222222222222,\"#7201a8\"],[0.3333333333333333,\"#9c179e\"],[0.4444444444444444,\"#bd3786\"],[0.5555555555555556,\"#d8576b\"],[0.6666666666666666,\"#ed7953\"],[0.7777777777777778,\"#fb9f3a\"],[0.8888888888888888,\"#fdca26\"],[1.0,\"#f0f921\"]],\"type\":\"surface\"}],\"table\":[{\"cells\":{\"fill\":{\"color\":\"#EBF0F8\"},\"line\":{\"color\":\"white\"}},\"header\":{\"fill\":{\"color\":\"#C8D4E3\"},\"line\":{\"color\":\"white\"}},\"type\":\"table\"}]},\"layout\":{\"annotationdefaults\":{\"arrowcolor\":\"#2a3f5f\",\"arrowhead\":0,\"arrowwidth\":1},\"autotypenumbers\":\"strict\",\"coloraxis\":{\"colorbar\":{\"outlinewidth\":0,\"ticks\":\"\"}},\"colorscale\":{\"diverging\":[[0,\"#8e0152\"],[0.1,\"#c51b7d\"],[0.2,\"#de77ae\"],[0.3,\"#f1b6da\"],[0.4,\"#fde0ef\"],[0.5,\"#f7f7f7\"],[0.6,\"#e6f5d0\"],[0.7,\"#b8e186\"],[0.8,\"#7fbc41\"],[0.9,\"#4d9221\"],[1,\"#276419\"]],\"sequential\":[[0.0,\"#0d0887\"],[0.1111111111111111,\"#46039f\"],[0.2222222222222222,\"#7201a8\"],[0.3333333333333333,\"#9c179e\"],[0.4444444444444444,\"#bd3786\"],[0.5555555555555556,\"#d8576b\"],[0.6666666666666666,\"#ed7953\"],[0.7777777777777778,\"#fb9f3a\"],[0.8888888888888888,\"#fdca26\"],[1.0,\"#f0f921\"]],\"sequentialminus\":[[0.0,\"#0d0887\"],[0.1111111111111111,\"#46039f\"],[0.2222222222222222,\"#7201a8\"],[0.3333333333333333,\"#9c179e\"],[0.4444444444444444,\"#bd3786\"],[0.5555555555555556,\"#d8576b\"],[0.6666666666666666,\"#ed7953\"],[0.7777777777777778,\"#fb9f3a\"],[0.8888888888888888,\"#fdca26\"],[1.0,\"#f0f921\"]]},\"colorway\":[\"#636efa\",\"#EF553B\",\"#00cc96\",\"#ab63fa\",\"#FFA15A\",\"#19d3f3\",\"#FF6692\",\"#B6E880\",\"#FF97FF\",\"#FECB52\"],\"font\":{\"color\":\"#2a3f5f\"},\"geo\":{\"bgcolor\":\"white\",\"lakecolor\":\"white\",\"landcolor\":\"#E5ECF6\",\"showlakes\":true,\"showland\":true,\"subunitcolor\":\"white\"},\"hoverlabel\":{\"align\":\"left\"},\"hovermode\":\"closest\",\"mapbox\":{\"style\":\"light\"},\"paper_bgcolor\":\"white\",\"plot_bgcolor\":\"#E5ECF6\",\"polar\":{\"angularaxis\":{\"gridcolor\":\"white\",\"linecolor\":\"white\",\"ticks\":\"\"},\"bgcolor\":\"#E5ECF6\",\"radialaxis\":{\"gridcolor\":\"white\",\"linecolor\":\"white\",\"ticks\":\"\"}},\"scene\":{\"xaxis\":{\"backgroundcolor\":\"#E5ECF6\",\"gridcolor\":\"white\",\"gridwidth\":2,\"linecolor\":\"white\",\"showbackground\":true,\"ticks\":\"\",\"zerolinecolor\":\"white\"},\"yaxis\":{\"backgroundcolor\":\"#E5ECF6\",\"gridcolor\":\"white\",\"gridwidth\":2,\"linecolor\":\"white\",\"showbackground\":true,\"ticks\":\"\",\"zerolinecolor\":\"white\"},\"zaxis\":{\"backgroundcolor\":\"#E5ECF6\",\"gridcolor\":\"white\",\"gridwidth\":2,\"linecolor\":\"white\",\"showbackground\":true,\"ticks\":\"\",\"zerolinecolor\":\"white\"}},\"shapedefaults\":{\"line\":{\"color\":\"#2a3f5f\"}},\"ternary\":{\"aaxis\":{\"gridcolor\":\"white\",\"linecolor\":\"white\",\"ticks\":\"\"},\"baxis\":{\"gridcolor\":\"white\",\"linecolor\":\"white\",\"ticks\":\"\"},\"bgcolor\":\"#E5ECF6\",\"caxis\":{\"gridcolor\":\"white\",\"linecolor\":\"white\",\"ticks\":\"\"}},\"title\":{\"x\":0.05},\"xaxis\":{\"automargin\":true,\"gridcolor\":\"white\",\"linecolor\":\"white\",\"ticks\":\"\",\"title\":{\"standoff\":15},\"zerolinecolor\":\"white\",\"zerolinewidth\":2},\"yaxis\":{\"automargin\":true,\"gridcolor\":\"white\",\"linecolor\":\"white\",\"ticks\":\"\",\"title\":{\"standoff\":15},\"zerolinecolor\":\"white\",\"zerolinewidth\":2}}},\"title\":{\"font\":{\"color\":\"#4D5663\"},\"text\":\"Incremental Pseudo R Squared for Top 10 Variables \"},\"xaxis\":{\"gridcolor\":\"#E1E5ED\",\"showgrid\":true,\"tickfont\":{\"color\":\"#4D5663\"},\"title\":{\"font\":{\"color\":\"#4D5663\"},\"text\":\"Estimators\"},\"zerolinecolor\":\"#E1E5ED\"},\"yaxis\":{\"gridcolor\":\"#E1E5ED\",\"showgrid\":true,\"tickfont\":{\"color\":\"#4D5663\"},\"title\":{\"font\":{\"color\":\"#4D5663\"},\"text\":\"Incremental R2\"},\"zerolinecolor\":\"#E1E5ED\"}},                        {\"responsive\": true}                    ).then(function(){\n",
       "                            \n",
       "var gd = document.getElementById('0d9ef4e2-c40b-4dfc-8eff-d30a25254163');\n",
       "var x = new MutationObserver(function (mutations, observer) {{\n",
       "        var display = window.getComputedStyle(gd).display;\n",
       "        if (!display || display === 'none') {{\n",
       "            console.log([gd, 'removed!']);\n",
       "            Plotly.purge(gd);\n",
       "            observer.disconnect();\n",
       "        }}\n",
       "}});\n",
       "\n",
       "// Listen for the removal of the full notebook cells\n",
       "var notebookContainer = gd.closest('#notebook-container');\n",
       "if (notebookContainer) {{\n",
       "    x.observe(notebookContainer, {childList: true});\n",
       "}}\n",
       "\n",
       "// Listen for the clearing of the current output cell\n",
       "var outputEl = gd.closest('.output');\n",
       "if (outputEl) {{\n",
       "    x.observe(outputEl, {childList: true});\n",
       "}}\n",
       "\n",
       "                        })                };                });            </script>        </div>"
      ]
     },
     "metadata": {},
     "output_type": "display_data"
    },
    {
     "data": {
      "application/vnd.plotly.v1+json": {
       "config": {
        "linkText": "Export to plot.ly",
        "plotlyServerURL": "https://plot.ly",
        "showLink": false
       },
       "data": [
        {
         "labels": [
          "deposit_type_Non Refund",
          "lead_time",
          "total_of_special_requests",
          "previous_cancellations",
          "customer_type_Transient-Party",
          "booking_changes",
          "distribution_channel_Direct",
          "previous_bookings_not_canceled",
          "adr",
          "hotel_Resort Hotel"
         ],
         "marker": {
          "colors": [
           "rgba(255, 153, 51, 1.0)",
           "rgba(55, 128, 191, 1.0)",
           "rgba(50, 171, 96, 1.0)",
           "rgba(128, 0, 128, 1.0)",
           "rgba(219, 64, 82, 1.0)",
           "rgba(0, 128, 128, 1.0)",
           "rgba(255, 255, 51, 1.0)",
           "rgba(128, 128, 0, 1.0)",
           "rgba(251, 128, 114, 1.0)",
           "rgba(128, 177, 211, 1.0)"
          ]
         },
         "name": "",
         "type": "pie",
         "values": [
          45.30373752670595,
          12.718079819415596,
          11.099731977681962,
          9.420018171815546,
          5.407786401896491,
          4.093050709257658,
          4.0827110838824625,
          3.557930241510738,
          2.3926786853822573,
          1.9242753824513519
         ]
        }
       ],
       "layout": {
        "legend": {
         "bgcolor": "#F5F6F9",
         "font": {
          "color": "#4D5663"
         }
        },
        "paper_bgcolor": "#F5F6F9",
        "plot_bgcolor": "#F5F6F9",
        "template": {
         "data": {
          "bar": [
           {
            "error_x": {
             "color": "#2a3f5f"
            },
            "error_y": {
             "color": "#2a3f5f"
            },
            "marker": {
             "line": {
              "color": "#E5ECF6",
              "width": 0.5
             },
             "pattern": {
              "fillmode": "overlay",
              "size": 10,
              "solidity": 0.2
             }
            },
            "type": "bar"
           }
          ],
          "barpolar": [
           {
            "marker": {
             "line": {
              "color": "#E5ECF6",
              "width": 0.5
             },
             "pattern": {
              "fillmode": "overlay",
              "size": 10,
              "solidity": 0.2
             }
            },
            "type": "barpolar"
           }
          ],
          "carpet": [
           {
            "aaxis": {
             "endlinecolor": "#2a3f5f",
             "gridcolor": "white",
             "linecolor": "white",
             "minorgridcolor": "white",
             "startlinecolor": "#2a3f5f"
            },
            "baxis": {
             "endlinecolor": "#2a3f5f",
             "gridcolor": "white",
             "linecolor": "white",
             "minorgridcolor": "white",
             "startlinecolor": "#2a3f5f"
            },
            "type": "carpet"
           }
          ],
          "choropleth": [
           {
            "colorbar": {
             "outlinewidth": 0,
             "ticks": ""
            },
            "type": "choropleth"
           }
          ],
          "contour": [
           {
            "colorbar": {
             "outlinewidth": 0,
             "ticks": ""
            },
            "colorscale": [
             [
              0,
              "#0d0887"
             ],
             [
              0.1111111111111111,
              "#46039f"
             ],
             [
              0.2222222222222222,
              "#7201a8"
             ],
             [
              0.3333333333333333,
              "#9c179e"
             ],
             [
              0.4444444444444444,
              "#bd3786"
             ],
             [
              0.5555555555555556,
              "#d8576b"
             ],
             [
              0.6666666666666666,
              "#ed7953"
             ],
             [
              0.7777777777777778,
              "#fb9f3a"
             ],
             [
              0.8888888888888888,
              "#fdca26"
             ],
             [
              1,
              "#f0f921"
             ]
            ],
            "type": "contour"
           }
          ],
          "contourcarpet": [
           {
            "colorbar": {
             "outlinewidth": 0,
             "ticks": ""
            },
            "type": "contourcarpet"
           }
          ],
          "heatmap": [
           {
            "colorbar": {
             "outlinewidth": 0,
             "ticks": ""
            },
            "colorscale": [
             [
              0,
              "#0d0887"
             ],
             [
              0.1111111111111111,
              "#46039f"
             ],
             [
              0.2222222222222222,
              "#7201a8"
             ],
             [
              0.3333333333333333,
              "#9c179e"
             ],
             [
              0.4444444444444444,
              "#bd3786"
             ],
             [
              0.5555555555555556,
              "#d8576b"
             ],
             [
              0.6666666666666666,
              "#ed7953"
             ],
             [
              0.7777777777777778,
              "#fb9f3a"
             ],
             [
              0.8888888888888888,
              "#fdca26"
             ],
             [
              1,
              "#f0f921"
             ]
            ],
            "type": "heatmap"
           }
          ],
          "heatmapgl": [
           {
            "colorbar": {
             "outlinewidth": 0,
             "ticks": ""
            },
            "colorscale": [
             [
              0,
              "#0d0887"
             ],
             [
              0.1111111111111111,
              "#46039f"
             ],
             [
              0.2222222222222222,
              "#7201a8"
             ],
             [
              0.3333333333333333,
              "#9c179e"
             ],
             [
              0.4444444444444444,
              "#bd3786"
             ],
             [
              0.5555555555555556,
              "#d8576b"
             ],
             [
              0.6666666666666666,
              "#ed7953"
             ],
             [
              0.7777777777777778,
              "#fb9f3a"
             ],
             [
              0.8888888888888888,
              "#fdca26"
             ],
             [
              1,
              "#f0f921"
             ]
            ],
            "type": "heatmapgl"
           }
          ],
          "histogram": [
           {
            "marker": {
             "pattern": {
              "fillmode": "overlay",
              "size": 10,
              "solidity": 0.2
             }
            },
            "type": "histogram"
           }
          ],
          "histogram2d": [
           {
            "colorbar": {
             "outlinewidth": 0,
             "ticks": ""
            },
            "colorscale": [
             [
              0,
              "#0d0887"
             ],
             [
              0.1111111111111111,
              "#46039f"
             ],
             [
              0.2222222222222222,
              "#7201a8"
             ],
             [
              0.3333333333333333,
              "#9c179e"
             ],
             [
              0.4444444444444444,
              "#bd3786"
             ],
             [
              0.5555555555555556,
              "#d8576b"
             ],
             [
              0.6666666666666666,
              "#ed7953"
             ],
             [
              0.7777777777777778,
              "#fb9f3a"
             ],
             [
              0.8888888888888888,
              "#fdca26"
             ],
             [
              1,
              "#f0f921"
             ]
            ],
            "type": "histogram2d"
           }
          ],
          "histogram2dcontour": [
           {
            "colorbar": {
             "outlinewidth": 0,
             "ticks": ""
            },
            "colorscale": [
             [
              0,
              "#0d0887"
             ],
             [
              0.1111111111111111,
              "#46039f"
             ],
             [
              0.2222222222222222,
              "#7201a8"
             ],
             [
              0.3333333333333333,
              "#9c179e"
             ],
             [
              0.4444444444444444,
              "#bd3786"
             ],
             [
              0.5555555555555556,
              "#d8576b"
             ],
             [
              0.6666666666666666,
              "#ed7953"
             ],
             [
              0.7777777777777778,
              "#fb9f3a"
             ],
             [
              0.8888888888888888,
              "#fdca26"
             ],
             [
              1,
              "#f0f921"
             ]
            ],
            "type": "histogram2dcontour"
           }
          ],
          "mesh3d": [
           {
            "colorbar": {
             "outlinewidth": 0,
             "ticks": ""
            },
            "type": "mesh3d"
           }
          ],
          "parcoords": [
           {
            "line": {
             "colorbar": {
              "outlinewidth": 0,
              "ticks": ""
             }
            },
            "type": "parcoords"
           }
          ],
          "pie": [
           {
            "automargin": true,
            "type": "pie"
           }
          ],
          "scatter": [
           {
            "fillpattern": {
             "fillmode": "overlay",
             "size": 10,
             "solidity": 0.2
            },
            "type": "scatter"
           }
          ],
          "scatter3d": [
           {
            "line": {
             "colorbar": {
              "outlinewidth": 0,
              "ticks": ""
             }
            },
            "marker": {
             "colorbar": {
              "outlinewidth": 0,
              "ticks": ""
             }
            },
            "type": "scatter3d"
           }
          ],
          "scattercarpet": [
           {
            "marker": {
             "colorbar": {
              "outlinewidth": 0,
              "ticks": ""
             }
            },
            "type": "scattercarpet"
           }
          ],
          "scattergeo": [
           {
            "marker": {
             "colorbar": {
              "outlinewidth": 0,
              "ticks": ""
             }
            },
            "type": "scattergeo"
           }
          ],
          "scattergl": [
           {
            "marker": {
             "colorbar": {
              "outlinewidth": 0,
              "ticks": ""
             }
            },
            "type": "scattergl"
           }
          ],
          "scattermapbox": [
           {
            "marker": {
             "colorbar": {
              "outlinewidth": 0,
              "ticks": ""
             }
            },
            "type": "scattermapbox"
           }
          ],
          "scatterpolar": [
           {
            "marker": {
             "colorbar": {
              "outlinewidth": 0,
              "ticks": ""
             }
            },
            "type": "scatterpolar"
           }
          ],
          "scatterpolargl": [
           {
            "marker": {
             "colorbar": {
              "outlinewidth": 0,
              "ticks": ""
             }
            },
            "type": "scatterpolargl"
           }
          ],
          "scatterternary": [
           {
            "marker": {
             "colorbar": {
              "outlinewidth": 0,
              "ticks": ""
             }
            },
            "type": "scatterternary"
           }
          ],
          "surface": [
           {
            "colorbar": {
             "outlinewidth": 0,
             "ticks": ""
            },
            "colorscale": [
             [
              0,
              "#0d0887"
             ],
             [
              0.1111111111111111,
              "#46039f"
             ],
             [
              0.2222222222222222,
              "#7201a8"
             ],
             [
              0.3333333333333333,
              "#9c179e"
             ],
             [
              0.4444444444444444,
              "#bd3786"
             ],
             [
              0.5555555555555556,
              "#d8576b"
             ],
             [
              0.6666666666666666,
              "#ed7953"
             ],
             [
              0.7777777777777778,
              "#fb9f3a"
             ],
             [
              0.8888888888888888,
              "#fdca26"
             ],
             [
              1,
              "#f0f921"
             ]
            ],
            "type": "surface"
           }
          ],
          "table": [
           {
            "cells": {
             "fill": {
              "color": "#EBF0F8"
             },
             "line": {
              "color": "white"
             }
            },
            "header": {
             "fill": {
              "color": "#C8D4E3"
             },
             "line": {
              "color": "white"
             }
            },
            "type": "table"
           }
          ]
         },
         "layout": {
          "annotationdefaults": {
           "arrowcolor": "#2a3f5f",
           "arrowhead": 0,
           "arrowwidth": 1
          },
          "autotypenumbers": "strict",
          "coloraxis": {
           "colorbar": {
            "outlinewidth": 0,
            "ticks": ""
           }
          },
          "colorscale": {
           "diverging": [
            [
             0,
             "#8e0152"
            ],
            [
             0.1,
             "#c51b7d"
            ],
            [
             0.2,
             "#de77ae"
            ],
            [
             0.3,
             "#f1b6da"
            ],
            [
             0.4,
             "#fde0ef"
            ],
            [
             0.5,
             "#f7f7f7"
            ],
            [
             0.6,
             "#e6f5d0"
            ],
            [
             0.7,
             "#b8e186"
            ],
            [
             0.8,
             "#7fbc41"
            ],
            [
             0.9,
             "#4d9221"
            ],
            [
             1,
             "#276419"
            ]
           ],
           "sequential": [
            [
             0,
             "#0d0887"
            ],
            [
             0.1111111111111111,
             "#46039f"
            ],
            [
             0.2222222222222222,
             "#7201a8"
            ],
            [
             0.3333333333333333,
             "#9c179e"
            ],
            [
             0.4444444444444444,
             "#bd3786"
            ],
            [
             0.5555555555555556,
             "#d8576b"
            ],
            [
             0.6666666666666666,
             "#ed7953"
            ],
            [
             0.7777777777777778,
             "#fb9f3a"
            ],
            [
             0.8888888888888888,
             "#fdca26"
            ],
            [
             1,
             "#f0f921"
            ]
           ],
           "sequentialminus": [
            [
             0,
             "#0d0887"
            ],
            [
             0.1111111111111111,
             "#46039f"
            ],
            [
             0.2222222222222222,
             "#7201a8"
            ],
            [
             0.3333333333333333,
             "#9c179e"
            ],
            [
             0.4444444444444444,
             "#bd3786"
            ],
            [
             0.5555555555555556,
             "#d8576b"
            ],
            [
             0.6666666666666666,
             "#ed7953"
            ],
            [
             0.7777777777777778,
             "#fb9f3a"
            ],
            [
             0.8888888888888888,
             "#fdca26"
            ],
            [
             1,
             "#f0f921"
            ]
           ]
          },
          "colorway": [
           "#636efa",
           "#EF553B",
           "#00cc96",
           "#ab63fa",
           "#FFA15A",
           "#19d3f3",
           "#FF6692",
           "#B6E880",
           "#FF97FF",
           "#FECB52"
          ],
          "font": {
           "color": "#2a3f5f"
          },
          "geo": {
           "bgcolor": "white",
           "lakecolor": "white",
           "landcolor": "#E5ECF6",
           "showlakes": true,
           "showland": true,
           "subunitcolor": "white"
          },
          "hoverlabel": {
           "align": "left"
          },
          "hovermode": "closest",
          "mapbox": {
           "style": "light"
          },
          "paper_bgcolor": "white",
          "plot_bgcolor": "#E5ECF6",
          "polar": {
           "angularaxis": {
            "gridcolor": "white",
            "linecolor": "white",
            "ticks": ""
           },
           "bgcolor": "#E5ECF6",
           "radialaxis": {
            "gridcolor": "white",
            "linecolor": "white",
            "ticks": ""
           }
          },
          "scene": {
           "xaxis": {
            "backgroundcolor": "#E5ECF6",
            "gridcolor": "white",
            "gridwidth": 2,
            "linecolor": "white",
            "showbackground": true,
            "ticks": "",
            "zerolinecolor": "white"
           },
           "yaxis": {
            "backgroundcolor": "#E5ECF6",
            "gridcolor": "white",
            "gridwidth": 2,
            "linecolor": "white",
            "showbackground": true,
            "ticks": "",
            "zerolinecolor": "white"
           },
           "zaxis": {
            "backgroundcolor": "#E5ECF6",
            "gridcolor": "white",
            "gridwidth": 2,
            "linecolor": "white",
            "showbackground": true,
            "ticks": "",
            "zerolinecolor": "white"
           }
          },
          "shapedefaults": {
           "line": {
            "color": "#2a3f5f"
           }
          },
          "ternary": {
           "aaxis": {
            "gridcolor": "white",
            "linecolor": "white",
            "ticks": ""
           },
           "baxis": {
            "gridcolor": "white",
            "linecolor": "white",
            "ticks": ""
           },
           "bgcolor": "#E5ECF6",
           "caxis": {
            "gridcolor": "white",
            "linecolor": "white",
            "ticks": ""
           }
          },
          "title": {
           "x": 0.05
          },
          "xaxis": {
           "automargin": true,
           "gridcolor": "white",
           "linecolor": "white",
           "ticks": "",
           "title": {
            "standoff": 15
           },
           "zerolinecolor": "white",
           "zerolinewidth": 2
          },
          "yaxis": {
           "automargin": true,
           "gridcolor": "white",
           "linecolor": "white",
           "ticks": "",
           "title": {
            "standoff": 15
           },
           "zerolinecolor": "white",
           "zerolinewidth": 2
          }
         }
        },
        "title": {
         "font": {
          "color": "#4D5663"
         },
         "text": "Percentage Relative Importance for Top 10 Variables "
        }
       }
      },
      "text/html": [
       "<div>                            <div id=\"e11449a0-747c-4bc5-b6f9-7b06d816e967\" class=\"plotly-graph-div\" style=\"height:525px; width:100%;\"></div>            <script type=\"text/javascript\">                require([\"plotly\"], function(Plotly) {                    window.PLOTLYENV=window.PLOTLYENV || {};                                    if (document.getElementById(\"e11449a0-747c-4bc5-b6f9-7b06d816e967\")) {                    Plotly.newPlot(                        \"e11449a0-747c-4bc5-b6f9-7b06d816e967\",                        [{\"labels\":[\"deposit_type_Non Refund\",\"lead_time\",\"total_of_special_requests\",\"previous_cancellations\",\"customer_type_Transient-Party\",\"booking_changes\",\"distribution_channel_Direct\",\"previous_bookings_not_canceled\",\"adr\",\"hotel_Resort Hotel\"],\"marker\":{\"colors\":[\"rgba(255, 153, 51, 1.0)\",\"rgba(55, 128, 191, 1.0)\",\"rgba(50, 171, 96, 1.0)\",\"rgba(128, 0, 128, 1.0)\",\"rgba(219, 64, 82, 1.0)\",\"rgba(0, 128, 128, 1.0)\",\"rgba(255, 255, 51, 1.0)\",\"rgba(128, 128, 0, 1.0)\",\"rgba(251, 128, 114, 1.0)\",\"rgba(128, 177, 211, 1.0)\"]},\"name\":\"\",\"values\":[45.30373752670595,12.718079819415596,11.099731977681962,9.420018171815546,5.407786401896491,4.093050709257658,4.0827110838824625,3.557930241510738,2.3926786853822573,1.9242753824513519],\"type\":\"pie\"}],                        {\"legend\":{\"bgcolor\":\"#F5F6F9\",\"font\":{\"color\":\"#4D5663\"}},\"paper_bgcolor\":\"#F5F6F9\",\"plot_bgcolor\":\"#F5F6F9\",\"template\":{\"data\":{\"barpolar\":[{\"marker\":{\"line\":{\"color\":\"#E5ECF6\",\"width\":0.5},\"pattern\":{\"fillmode\":\"overlay\",\"size\":10,\"solidity\":0.2}},\"type\":\"barpolar\"}],\"bar\":[{\"error_x\":{\"color\":\"#2a3f5f\"},\"error_y\":{\"color\":\"#2a3f5f\"},\"marker\":{\"line\":{\"color\":\"#E5ECF6\",\"width\":0.5},\"pattern\":{\"fillmode\":\"overlay\",\"size\":10,\"solidity\":0.2}},\"type\":\"bar\"}],\"carpet\":[{\"aaxis\":{\"endlinecolor\":\"#2a3f5f\",\"gridcolor\":\"white\",\"linecolor\":\"white\",\"minorgridcolor\":\"white\",\"startlinecolor\":\"#2a3f5f\"},\"baxis\":{\"endlinecolor\":\"#2a3f5f\",\"gridcolor\":\"white\",\"linecolor\":\"white\",\"minorgridcolor\":\"white\",\"startlinecolor\":\"#2a3f5f\"},\"type\":\"carpet\"}],\"choropleth\":[{\"colorbar\":{\"outlinewidth\":0,\"ticks\":\"\"},\"type\":\"choropleth\"}],\"contourcarpet\":[{\"colorbar\":{\"outlinewidth\":0,\"ticks\":\"\"},\"type\":\"contourcarpet\"}],\"contour\":[{\"colorbar\":{\"outlinewidth\":0,\"ticks\":\"\"},\"colorscale\":[[0.0,\"#0d0887\"],[0.1111111111111111,\"#46039f\"],[0.2222222222222222,\"#7201a8\"],[0.3333333333333333,\"#9c179e\"],[0.4444444444444444,\"#bd3786\"],[0.5555555555555556,\"#d8576b\"],[0.6666666666666666,\"#ed7953\"],[0.7777777777777778,\"#fb9f3a\"],[0.8888888888888888,\"#fdca26\"],[1.0,\"#f0f921\"]],\"type\":\"contour\"}],\"heatmapgl\":[{\"colorbar\":{\"outlinewidth\":0,\"ticks\":\"\"},\"colorscale\":[[0.0,\"#0d0887\"],[0.1111111111111111,\"#46039f\"],[0.2222222222222222,\"#7201a8\"],[0.3333333333333333,\"#9c179e\"],[0.4444444444444444,\"#bd3786\"],[0.5555555555555556,\"#d8576b\"],[0.6666666666666666,\"#ed7953\"],[0.7777777777777778,\"#fb9f3a\"],[0.8888888888888888,\"#fdca26\"],[1.0,\"#f0f921\"]],\"type\":\"heatmapgl\"}],\"heatmap\":[{\"colorbar\":{\"outlinewidth\":0,\"ticks\":\"\"},\"colorscale\":[[0.0,\"#0d0887\"],[0.1111111111111111,\"#46039f\"],[0.2222222222222222,\"#7201a8\"],[0.3333333333333333,\"#9c179e\"],[0.4444444444444444,\"#bd3786\"],[0.5555555555555556,\"#d8576b\"],[0.6666666666666666,\"#ed7953\"],[0.7777777777777778,\"#fb9f3a\"],[0.8888888888888888,\"#fdca26\"],[1.0,\"#f0f921\"]],\"type\":\"heatmap\"}],\"histogram2dcontour\":[{\"colorbar\":{\"outlinewidth\":0,\"ticks\":\"\"},\"colorscale\":[[0.0,\"#0d0887\"],[0.1111111111111111,\"#46039f\"],[0.2222222222222222,\"#7201a8\"],[0.3333333333333333,\"#9c179e\"],[0.4444444444444444,\"#bd3786\"],[0.5555555555555556,\"#d8576b\"],[0.6666666666666666,\"#ed7953\"],[0.7777777777777778,\"#fb9f3a\"],[0.8888888888888888,\"#fdca26\"],[1.0,\"#f0f921\"]],\"type\":\"histogram2dcontour\"}],\"histogram2d\":[{\"colorbar\":{\"outlinewidth\":0,\"ticks\":\"\"},\"colorscale\":[[0.0,\"#0d0887\"],[0.1111111111111111,\"#46039f\"],[0.2222222222222222,\"#7201a8\"],[0.3333333333333333,\"#9c179e\"],[0.4444444444444444,\"#bd3786\"],[0.5555555555555556,\"#d8576b\"],[0.6666666666666666,\"#ed7953\"],[0.7777777777777778,\"#fb9f3a\"],[0.8888888888888888,\"#fdca26\"],[1.0,\"#f0f921\"]],\"type\":\"histogram2d\"}],\"histogram\":[{\"marker\":{\"pattern\":{\"fillmode\":\"overlay\",\"size\":10,\"solidity\":0.2}},\"type\":\"histogram\"}],\"mesh3d\":[{\"colorbar\":{\"outlinewidth\":0,\"ticks\":\"\"},\"type\":\"mesh3d\"}],\"parcoords\":[{\"line\":{\"colorbar\":{\"outlinewidth\":0,\"ticks\":\"\"}},\"type\":\"parcoords\"}],\"pie\":[{\"automargin\":true,\"type\":\"pie\"}],\"scatter3d\":[{\"line\":{\"colorbar\":{\"outlinewidth\":0,\"ticks\":\"\"}},\"marker\":{\"colorbar\":{\"outlinewidth\":0,\"ticks\":\"\"}},\"type\":\"scatter3d\"}],\"scattercarpet\":[{\"marker\":{\"colorbar\":{\"outlinewidth\":0,\"ticks\":\"\"}},\"type\":\"scattercarpet\"}],\"scattergeo\":[{\"marker\":{\"colorbar\":{\"outlinewidth\":0,\"ticks\":\"\"}},\"type\":\"scattergeo\"}],\"scattergl\":[{\"marker\":{\"colorbar\":{\"outlinewidth\":0,\"ticks\":\"\"}},\"type\":\"scattergl\"}],\"scattermapbox\":[{\"marker\":{\"colorbar\":{\"outlinewidth\":0,\"ticks\":\"\"}},\"type\":\"scattermapbox\"}],\"scatterpolargl\":[{\"marker\":{\"colorbar\":{\"outlinewidth\":0,\"ticks\":\"\"}},\"type\":\"scatterpolargl\"}],\"scatterpolar\":[{\"marker\":{\"colorbar\":{\"outlinewidth\":0,\"ticks\":\"\"}},\"type\":\"scatterpolar\"}],\"scatter\":[{\"fillpattern\":{\"fillmode\":\"overlay\",\"size\":10,\"solidity\":0.2},\"type\":\"scatter\"}],\"scatterternary\":[{\"marker\":{\"colorbar\":{\"outlinewidth\":0,\"ticks\":\"\"}},\"type\":\"scatterternary\"}],\"surface\":[{\"colorbar\":{\"outlinewidth\":0,\"ticks\":\"\"},\"colorscale\":[[0.0,\"#0d0887\"],[0.1111111111111111,\"#46039f\"],[0.2222222222222222,\"#7201a8\"],[0.3333333333333333,\"#9c179e\"],[0.4444444444444444,\"#bd3786\"],[0.5555555555555556,\"#d8576b\"],[0.6666666666666666,\"#ed7953\"],[0.7777777777777778,\"#fb9f3a\"],[0.8888888888888888,\"#fdca26\"],[1.0,\"#f0f921\"]],\"type\":\"surface\"}],\"table\":[{\"cells\":{\"fill\":{\"color\":\"#EBF0F8\"},\"line\":{\"color\":\"white\"}},\"header\":{\"fill\":{\"color\":\"#C8D4E3\"},\"line\":{\"color\":\"white\"}},\"type\":\"table\"}]},\"layout\":{\"annotationdefaults\":{\"arrowcolor\":\"#2a3f5f\",\"arrowhead\":0,\"arrowwidth\":1},\"autotypenumbers\":\"strict\",\"coloraxis\":{\"colorbar\":{\"outlinewidth\":0,\"ticks\":\"\"}},\"colorscale\":{\"diverging\":[[0,\"#8e0152\"],[0.1,\"#c51b7d\"],[0.2,\"#de77ae\"],[0.3,\"#f1b6da\"],[0.4,\"#fde0ef\"],[0.5,\"#f7f7f7\"],[0.6,\"#e6f5d0\"],[0.7,\"#b8e186\"],[0.8,\"#7fbc41\"],[0.9,\"#4d9221\"],[1,\"#276419\"]],\"sequential\":[[0.0,\"#0d0887\"],[0.1111111111111111,\"#46039f\"],[0.2222222222222222,\"#7201a8\"],[0.3333333333333333,\"#9c179e\"],[0.4444444444444444,\"#bd3786\"],[0.5555555555555556,\"#d8576b\"],[0.6666666666666666,\"#ed7953\"],[0.7777777777777778,\"#fb9f3a\"],[0.8888888888888888,\"#fdca26\"],[1.0,\"#f0f921\"]],\"sequentialminus\":[[0.0,\"#0d0887\"],[0.1111111111111111,\"#46039f\"],[0.2222222222222222,\"#7201a8\"],[0.3333333333333333,\"#9c179e\"],[0.4444444444444444,\"#bd3786\"],[0.5555555555555556,\"#d8576b\"],[0.6666666666666666,\"#ed7953\"],[0.7777777777777778,\"#fb9f3a\"],[0.8888888888888888,\"#fdca26\"],[1.0,\"#f0f921\"]]},\"colorway\":[\"#636efa\",\"#EF553B\",\"#00cc96\",\"#ab63fa\",\"#FFA15A\",\"#19d3f3\",\"#FF6692\",\"#B6E880\",\"#FF97FF\",\"#FECB52\"],\"font\":{\"color\":\"#2a3f5f\"},\"geo\":{\"bgcolor\":\"white\",\"lakecolor\":\"white\",\"landcolor\":\"#E5ECF6\",\"showlakes\":true,\"showland\":true,\"subunitcolor\":\"white\"},\"hoverlabel\":{\"align\":\"left\"},\"hovermode\":\"closest\",\"mapbox\":{\"style\":\"light\"},\"paper_bgcolor\":\"white\",\"plot_bgcolor\":\"#E5ECF6\",\"polar\":{\"angularaxis\":{\"gridcolor\":\"white\",\"linecolor\":\"white\",\"ticks\":\"\"},\"bgcolor\":\"#E5ECF6\",\"radialaxis\":{\"gridcolor\":\"white\",\"linecolor\":\"white\",\"ticks\":\"\"}},\"scene\":{\"xaxis\":{\"backgroundcolor\":\"#E5ECF6\",\"gridcolor\":\"white\",\"gridwidth\":2,\"linecolor\":\"white\",\"showbackground\":true,\"ticks\":\"\",\"zerolinecolor\":\"white\"},\"yaxis\":{\"backgroundcolor\":\"#E5ECF6\",\"gridcolor\":\"white\",\"gridwidth\":2,\"linecolor\":\"white\",\"showbackground\":true,\"ticks\":\"\",\"zerolinecolor\":\"white\"},\"zaxis\":{\"backgroundcolor\":\"#E5ECF6\",\"gridcolor\":\"white\",\"gridwidth\":2,\"linecolor\":\"white\",\"showbackground\":true,\"ticks\":\"\",\"zerolinecolor\":\"white\"}},\"shapedefaults\":{\"line\":{\"color\":\"#2a3f5f\"}},\"ternary\":{\"aaxis\":{\"gridcolor\":\"white\",\"linecolor\":\"white\",\"ticks\":\"\"},\"baxis\":{\"gridcolor\":\"white\",\"linecolor\":\"white\",\"ticks\":\"\"},\"bgcolor\":\"#E5ECF6\",\"caxis\":{\"gridcolor\":\"white\",\"linecolor\":\"white\",\"ticks\":\"\"}},\"title\":{\"x\":0.05},\"xaxis\":{\"automargin\":true,\"gridcolor\":\"white\",\"linecolor\":\"white\",\"ticks\":\"\",\"title\":{\"standoff\":15},\"zerolinecolor\":\"white\",\"zerolinewidth\":2},\"yaxis\":{\"automargin\":true,\"gridcolor\":\"white\",\"linecolor\":\"white\",\"ticks\":\"\",\"title\":{\"standoff\":15},\"zerolinecolor\":\"white\",\"zerolinewidth\":2}}},\"title\":{\"font\":{\"color\":\"#4D5663\"},\"text\":\"Percentage Relative Importance for Top 10 Variables \"}},                        {\"responsive\": true}                    ).then(function(){\n",
       "                            \n",
       "var gd = document.getElementById('e11449a0-747c-4bc5-b6f9-7b06d816e967');\n",
       "var x = new MutationObserver(function (mutations, observer) {{\n",
       "        var display = window.getComputedStyle(gd).display;\n",
       "        if (!display || display === 'none') {{\n",
       "            console.log([gd, 'removed!']);\n",
       "            Plotly.purge(gd);\n",
       "            observer.disconnect();\n",
       "        }}\n",
       "}});\n",
       "\n",
       "// Listen for the removal of the full notebook cells\n",
       "var notebookContainer = gd.closest('#notebook-container');\n",
       "if (notebookContainer) {{\n",
       "    x.observe(notebookContainer, {childList: true});\n",
       "}}\n",
       "\n",
       "// Listen for the clearing of the current output cell\n",
       "var outputEl = gd.closest('.output');\n",
       "if (outputEl) {{\n",
       "    x.observe(outputEl, {childList: true});\n",
       "}}\n",
       "\n",
       "                        })                };                });            </script>        </div>"
      ]
     },
     "metadata": {},
     "output_type": "display_data"
    },
    {
     "data": {
      "text/html": [
       "\n",
       "  <div class=\"bk-root\" id=\"16aa88ae-0822-4d31-9209-f96a9f35deb3\" data-root-id=\"1004\"></div>\n"
      ]
     },
     "metadata": {},
     "output_type": "display_data"
    },
    {
     "data": {
      "application/javascript": [
       "(function(root) {\n",
       "  function embed_document(root) {\n",
       "  const docs_json = {\"29c8b564-1ce9-485a-84e9-27564718a278\":{\"defs\":[],\"roots\":{\"references\":[{\"attributes\":{\"below\":[{\"id\":\"1015\"}],\"center\":[{\"id\":\"1017\"},{\"id\":\"1021\"},{\"id\":\"1035\"}],\"left\":[{\"id\":\"1018\"}],\"renderers\":[{\"id\":\"1031\"}],\"title\":{\"id\":\"1005\"},\"toolbar\":{\"id\":\"1024\"},\"width\":1000,\"x_range\":{\"id\":\"1007\"},\"x_scale\":{\"id\":\"1011\"},\"y_range\":{\"id\":\"1009\"},\"y_scale\":{\"id\":\"1013\"}},\"id\":\"1004\",\"subtype\":\"Figure\",\"type\":\"Plot\"},{\"attributes\":{},\"id\":\"1043\",\"type\":\"UnionRenderers\"},{\"attributes\":{\"end\":110.00000000000001},\"id\":\"1009\",\"type\":\"Range1d\"},{\"attributes\":{\"source\":{\"id\":\"1003\"}},\"id\":\"1032\",\"type\":\"CDSView\"},{\"attributes\":{\"tools\":[{\"id\":\"1022\"},{\"id\":\"1023\"}]},\"id\":\"1024\",\"type\":\"Toolbar\"},{\"attributes\":{\"coordinates\":null,\"group\":null,\"level\":\"glyph\",\"source\":{\"id\":\"1003\"},\"text\":{\"field\":\"bar_label\"},\"text_font_size\":{\"value\":\"11pt\"},\"x\":{\"field\":\"index\"},\"x_offset\":{\"value\":-14},\"y\":{\"field\":\"label_pos\"}},\"id\":\"1035\",\"type\":\"LabelSet\"},{\"attributes\":{},\"id\":\"1044\",\"type\":\"Selection\"},{\"attributes\":{\"coordinates\":null,\"data_source\":{\"id\":\"1003\"},\"glyph\":{\"id\":\"1028\"},\"group\":null,\"hover_glyph\":null,\"muted_glyph\":{\"id\":\"1030\"},\"nonselection_glyph\":{\"id\":\"1029\"},\"view\":{\"id\":\"1032\"}},\"id\":\"1031\",\"type\":\"GlyphRenderer\"},{\"attributes\":{},\"id\":\"1022\",\"type\":\"ResetTool\"},{\"attributes\":{\"data\":{\"Percentage Relative Importance\":{\"__ndarray__\":\"j+IL3+CmRkB6nXgoqG8pQNQE3REQMyZA0lgvnwzXIkCEmC/CkqEVQGWGZK9IXxBA5SrhNrJUEEBt52UhpHYMQK9s/Lg0JANA7wXC+9TJ/j8BAAAAAABZQA==\",\"dtype\":\"float64\",\"order\":\"little\",\"shape\":[11]},\"bar_label\":[\"45.3\",\"12.7\",\"11.1\",\"9.4\",\"5.4\",\"4.1\",\"4.1\",\"3.6\",\"2.4\",\"1.9\",\"100.0\"],\"color\":[\"#1de9b6\",\"#1de9b6\",\"#1de9b6\",\"#1de9b6\",\"#1de9b6\",\"#1de9b6\",\"#1de9b6\",\"#1de9b6\",\"#1de9b6\",\"#1de9b6\",\"#1de9b6\"],\"index\":[\"deposit_type_Non Refund\",\"lead_time\",\"total_of_special_requests\",\"previous_cancellations\",\"customer_type_Transient-Party\",\"booking_changes\",\"distribution_channel_Direct\",\"previous_bookings_not_canceled\",\"adr\",\"hotel_Resort Hotel\",\"net\"],\"label_pos\":{\"__ndarray__\":\"j+IL3+CmRkDuCSrpygJNQJKl0HbHR1FArJC2CqmiU0A0itk2wvxUQJrSz8G2AlZASOU95QEIV0CDFEkGt+tXQOj3EKzYhFhAAAAAAAAAWUABAAAAAABZQA==\",\"dtype\":\"float64\",\"order\":\"little\",\"shape\":[11]},\"running_total\":{\"__ndarray__\":\"j+IL3+CmRkDuCSrpygJNQJKl0HbHR1FArJC2CqmiU0A0itk2wvxUQJrSz8G2AlZASOU95QEIV0CDFEkGt+tXQOj3EKzYhFhAAAAAAAAAWUABAAAAAABZQA==\",\"dtype\":\"float64\",\"order\":\"little\",\"shape\":[11]},\"y_start\":{\"__ndarray__\":\"AAAAAAAAAACQ4gvf4KZGQO8JKunKAk1AkqXQdsdHUUCskLYKqaJTQDSK2TbC/FRAmtLPwbYCVkBI5T3lAQhXQIMUSQa361dA6PcQrNiEWEAAAAAAAAAAAA==\",\"dtype\":\"float64\",\"order\":\"little\",\"shape\":[11]}},\"selected\":{\"id\":\"1044\"},\"selection_policy\":{\"id\":\"1043\"}},\"id\":\"1003\",\"type\":\"ColumnDataSource\"},{\"attributes\":{},\"id\":\"1023\",\"type\":\"SaveTool\"},{\"attributes\":{\"axis\":{\"id\":\"1018\"},\"coordinates\":null,\"dimension\":1,\"grid_line_alpha\":0.4,\"group\":null,\"ticker\":null},\"id\":\"1021\",\"type\":\"Grid\"},{\"attributes\":{\"format\":\"(0 a)\"},\"id\":\"1033\",\"type\":\"NumeralTickFormatter\"},{\"attributes\":{\"line_color\":{\"field\":\"color\"},\"line_width\":{\"value\":35},\"x0\":{\"field\":\"index\"},\"x1\":{\"field\":\"index\"},\"y0\":{\"field\":\"y_start\"},\"y1\":{\"field\":\"running_total\"}},\"id\":\"1028\",\"type\":\"Segment\"},{\"attributes\":{\"line_alpha\":{\"value\":0.2},\"line_color\":{\"field\":\"color\"},\"line_width\":{\"value\":35},\"x0\":{\"field\":\"index\"},\"x1\":{\"field\":\"index\"},\"y0\":{\"field\":\"y_start\"},\"y1\":{\"field\":\"running_total\"}},\"id\":\"1030\",\"type\":\"Segment\"},{\"attributes\":{},\"id\":\"1039\",\"type\":\"AllLabels\"},{\"attributes\":{},\"id\":\"1016\",\"type\":\"CategoricalTicker\"},{\"attributes\":{},\"id\":\"1041\",\"type\":\"CategoricalTickFormatter\"},{\"attributes\":{\"factors\":[\"deposit_type_Non Refund\",\"lead_time\",\"total_of_special_requests\",\"previous_cancellations\",\"customer_type_Transient-Party\",\"booking_changes\",\"distribution_channel_Direct\",\"previous_bookings_not_canceled\",\"adr\",\"hotel_Resort Hotel\",\"net\"]},\"id\":\"1007\",\"type\":\"FactorRange\"},{\"attributes\":{},\"id\":\"1019\",\"type\":\"BasicTicker\"},{\"attributes\":{},\"id\":\"1042\",\"type\":\"AllLabels\"},{\"attributes\":{\"axis_label\":\"Predictors\",\"axis_label_text_font_size\":\"12pt\",\"coordinates\":null,\"formatter\":{\"id\":\"1041\"},\"group\":null,\"major_label_orientation\":-0.7853981633974483,\"major_label_policy\":{\"id\":\"1042\"},\"ticker\":{\"id\":\"1016\"}},\"id\":\"1015\",\"type\":\"CategoricalAxis\"},{\"attributes\":{\"coordinates\":null,\"group\":null,\"text\":\"Percentage Relative Importance Waterfall\"},\"id\":\"1005\",\"type\":\"Title\"},{\"attributes\":{},\"id\":\"1013\",\"type\":\"LinearScale\"},{\"attributes\":{\"axis\":{\"id\":\"1015\"},\"coordinates\":null,\"grid_line_alpha\":0.4,\"group\":null,\"ticker\":null},\"id\":\"1017\",\"type\":\"Grid\"},{\"attributes\":{\"axis_label\":\"Percentage Relative Importance(%)\",\"axis_label_text_font_size\":\"12pt\",\"coordinates\":null,\"formatter\":{\"id\":\"1033\"},\"group\":null,\"major_label_policy\":{\"id\":\"1039\"},\"ticker\":{\"id\":\"1019\"}},\"id\":\"1018\",\"type\":\"LinearAxis\"},{\"attributes\":{\"line_alpha\":{\"value\":0.1},\"line_color\":{\"field\":\"color\"},\"line_width\":{\"value\":35},\"x0\":{\"field\":\"index\"},\"x1\":{\"field\":\"index\"},\"y0\":{\"field\":\"y_start\"},\"y1\":{\"field\":\"running_total\"}},\"id\":\"1029\",\"type\":\"Segment\"},{\"attributes\":{},\"id\":\"1011\",\"type\":\"CategoricalScale\"}],\"root_ids\":[\"1004\"]},\"title\":\"Bokeh Application\",\"version\":\"2.4.3\"}};\n",
       "  const render_items = [{\"docid\":\"29c8b564-1ce9-485a-84e9-27564718a278\",\"root_ids\":[\"1004\"],\"roots\":{\"1004\":\"16aa88ae-0822-4d31-9209-f96a9f35deb3\"}}];\n",
       "  root.Bokeh.embed.embed_items_notebook(docs_json, render_items);\n",
       "  }\n",
       "  if (root.Bokeh !== undefined) {\n",
       "    embed_document(root);\n",
       "  } else {\n",
       "    let attempts = 0;\n",
       "    const timer = setInterval(function(root) {\n",
       "      if (root.Bokeh !== undefined) {\n",
       "        clearInterval(timer);\n",
       "        embed_document(root);\n",
       "      } else {\n",
       "        attempts++;\n",
       "        if (attempts > 100) {\n",
       "          clearInterval(timer);\n",
       "          console.log(\"Bokeh: ERROR: Unable to run BokehJS code because BokehJS library is missing\");\n",
       "        }\n",
       "      }\n",
       "    }, 10, root)\n",
       "  }\n",
       "})(window);"
      ],
      "application/vnd.bokehjs_exec.v0+json": ""
     },
     "metadata": {
      "application/vnd.bokehjs_exec.v0+json": {
       "id": "1004"
      }
     },
     "output_type": "display_data"
    }
   ],
   "source": [
    "dominance_classification.plot_incremental_rsquare()"
   ]
  }
 ],
 "metadata": {
  "kernelspec": {
   "display_name": "Python 3 (ipykernel)",
   "language": "python",
   "name": "python3"
  },
  "language_info": {
   "codemirror_mode": {
    "name": "ipython",
    "version": 3
   },
   "file_extension": ".py",
   "mimetype": "text/x-python",
   "name": "python",
   "nbconvert_exporter": "python",
   "pygments_lexer": "ipython3",
   "version": "3.9.7"
  }
 },
 "nbformat": 4,
 "nbformat_minor": 5
}
